{
 "cells": [
  {
   "cell_type": "markdown",
   "metadata": {},
   "source": [
    "# Introduction"
   ]
  },
  {
   "cell_type": "markdown",
   "metadata": {},
   "source": [
    "This notebook shows the steps to prepate the maps needed for the wflow_* set of models. The wflow_prepare scripts have a number of specific features that are not used here. This notebook shows the principles and may be used as a template to create better preprocessing options.\n",
    "\n",
    "In short the steps to generate input files for the wflow models are:\n",
    "\n",
    "- Create a DEM for the catchment\n",
    "- Create a local crainage network file for the catchment used the DEM and additional information\n",
    "- Create a subarea/catchment map by indicating outflow points (gauges) in the map\n",
    "- Convert/resample landuse and soil maps\n",
    "\n",
    "The folloing maps are required:\n",
    "\n",
    "- wflow_dem.map\n",
    "- wflow_demmax.map (for sbm only)\n",
    "- wflow_demmin.map (for sbm only)\n",
    "- wflow_ldd.map\n",
    "- wflow_landuse.map\n",
    "- wflow_soil.map\n",
    "- wflow_river.map\n",
    "- wflow_subcatch.map\n",
    "\n",
    "There are more maps but those are optional (but very useful). See the documentation of the wflow_prepare scripts for details"
   ]
  },
  {
   "cell_type": "markdown",
   "metadata": {},
   "source": [
    "# Example"
   ]
  },
  {
   "cell_type": "code",
   "execution_count": 1,
   "metadata": {
    "tags": []
   },
   "outputs": [
    {
     "name": "stdout",
     "output_type": "stream",
     "text": [
      "%pylab is deprecated, use %matplotlib inline and import the required libraries.\n",
      "Populating the interactive namespace from numpy and matplotlib\n"
     ]
    }
   ],
   "source": [
    "import os\n",
    "#os.chdir(\"/mnt/c/Workspace/Ch3/wflow/\")\n",
    "#os.chdir(\"/mnt/d/Github/wflow/\")\n",
    "os.chdir(os.path.join(\"D:\\\\\", \"GitHub\", \"wflow\"))\n",
    "\n",
    "os.getcwd()\n",
    "\n",
    "import wflow.wflow_lib as tr\n",
    "import pcraster as pcr\n",
    "%pylab inline"
   ]
  },
  {
   "cell_type": "markdown",
   "metadata": {},
   "source": [
    "## Process DEM to generate the ldd"
   ]
  },
  {
   "cell_type": "markdown",
   "metadata": {},
   "source": [
    "Begin by importing the wflow_lib module. This module also imports the pcraster framework. Also set the names of the files we are going to use here."
   ]
  },
  {
   "cell_type": "code",
   "execution_count": 2,
   "metadata": {
    "tags": []
   },
   "outputs": [
    {
     "name": "stdout",
     "output_type": "stream",
     "text": [
      "D:\\wflow_models\\san-diego_california_20331196_11023340\\inputs_og\\staticmaps\\wflow_dem.map\n"
     ]
    }
   ],
   "source": [
    "ws_name = \"san-diego_california_20331196_11023340\"\n",
    "#ws_name = \"fulton_georgia_2047963_02336410\"\n",
    "\n",
    "#static_dir = str(\"/mnt/c/Workspace/Ch3/wflow_models/\" + ws_name +  \"/staticmaps_1km/\")\n",
    "#static_dir = os.path.join(\"D:\\\\\", \"wflow_models\", ws_name,  \"staticmaps_1km\")\n",
    "static_dir = os.path.join(\"D:\\\\\", \"wflow_models\", ws_name,  \"inputs_og\", \"staticmaps\")\n",
    "\n",
    "#demfilename = \"DEM_90m.map\"\n",
    "demfilename = \"wflow_dem.map\"\n",
    "#dem_dir = str(static_dir + demfilename)\n",
    "dem_dir = os.path.join(static_dir, demfilename)\n",
    "#ws_dir = os.path.join(static_dir, \"wflow_pre_ws.map\")\n",
    "print(dem_dir)"
   ]
  },
  {
   "cell_type": "markdown",
   "metadata": {},
   "source": [
    "start by reading the DEM into memory. Note that a DEM can be rather large, in that case it may be good to resample it first before reading it into memory.\n",
    "Check the dem by plotting it. Note the use of the _pcr2numpy_ function to convert the pcraster map object to a numpy matrixCheck the dem by plotting it. Note the use of the _pcr2numpy_ function to convert the pcraster map object to a numpy matrix"
   ]
  },
  {
   "cell_type": "markdown",
   "metadata": {},
   "source": [
    "## OK, now use the subcatchments to mask the dem to the catchment we use and save the dem. This will speed-up later calculations. Also save the subcatchment and gauges"
   ]
  },
  {
   "cell_type": "code",
   "execution_count": 3,
   "metadata": {},
   "outputs": [],
   "source": [
    "dem = pcr.readmap(dem_dir)\n",
    "\n",
    "ws = pcr.ifthenelse(pcr.defined(dem), pcr.nominal(1), pcr.nominal(0))"
   ]
  },
  {
   "cell_type": "code",
   "execution_count": 5,
   "metadata": {},
   "outputs": [
    {
     "data": {
      "text/plain": [
       "<matplotlib.colorbar.Colorbar at 0x217d2dd76b0>"
      ]
     },
     "execution_count": 5,
     "metadata": {},
     "output_type": "execute_result"
    },
    {
     "data": {
      "image/png": "[encoded data removed]",
      "text/plain": [
       "<Figure size 1000x600 with 2 Axes>"
      ]
     },
     "metadata": {},
     "output_type": "display_data"
    }
   ],
   "source": [
    "figure(figsize = (10,6))\n",
    "imshow(pcr.pcr2numpy(ws,np.nan))\n",
    "colorbar()"
   ]
  },
  {
   "cell_type": "code",
   "execution_count": 18,
   "metadata": {
    "tags": []
   },
   "outputs": [],
   "source": [
    "pcr.report(pcr.nominal(ws), static_dir + \"/wflow_ws.map\")"
   ]
  },
  {
   "cell_type": "code",
   "execution_count": 19,
   "metadata": {
    "tags": []
   },
   "outputs": [],
   "source": [
    "wflow_velocity = pcr.ifthen(dem2 > (-100), pcr.scalar(3600))\n",
    "pcr.report(wflow_velocity, static_dir + \"/wflow_velocity.map\")"
   ]
  }
 ],
 "metadata": {
  "kernelspec": {
   "display_name": "Python (wflow)",
   "language": "python",
   "name": "wflow"
  },
  "language_info": {
   "codemirror_mode": {
    "name": "ipython",
    "version": 3
   },
   "file_extension": ".py",
   "mimetype": "text/x-python",
   "name": "python",
   "nbconvert_exporter": "python",
   "pygments_lexer": "ipython3",
   "version": "3.12.3"
  }
 },
 "nbformat": 4,
 "nbformat_minor": 4
}
