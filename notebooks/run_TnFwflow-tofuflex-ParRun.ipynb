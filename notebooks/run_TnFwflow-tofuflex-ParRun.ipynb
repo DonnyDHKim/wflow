{
 "cells": [
  {
   "cell_type": "markdown",
   "metadata": {},
   "source": [
    "# Use of the wflow OpenStreams framework API"
   ]
  },
  {
   "cell_type": "markdown",
   "metadata": {},
   "source": [
    "This ipython notebook demonstrates how to load an openstreams python model and execute it step-by-step and investigate the (intermediate) results. The first steps is to load the model and framework:\n"
   ]
  },
  {
   "cell_type": "code",
   "execution_count": 1,
   "metadata": {},
   "outputs": [
    {
     "data": {
      "text/plain": [
       "'D:\\\\GitHub\\\\wflow\\\\notebooks'"
      ]
     },
     "execution_count": 1,
     "metadata": {},
     "output_type": "execute_result"
    }
   ],
   "source": [
    "import os\n",
    "from IPython import get_ipython\n",
    "from datetime import date\n",
    "\n",
    "\n",
    "os.chdir(os.path.join(\"D:\\\\\", \"GitHub\", \"wflow\", \"notebooks\"))\n",
    "#os.chdir(os.path.join(\"/mnt\", \"d\", \"GitHub\", \"wflow\", \"notebooks\"))\n",
    "os.getcwd()"
   ]
  },
  {
   "cell_type": "code",
   "execution_count": 4,
   "metadata": {},
   "outputs": [
    {
     "name": "stdout",
     "output_type": "stream",
     "text": [
      "sample size running: 256\n",
      "output_1km_20240720\n",
      "%run par_run_argsin.py --outpath \"output_1km_20240720\" --wsName \"san-diego_california_20331196_11023340\" --datetimestart \"2012-09-01 01:00:00\" --datetimeend \"2018-10-01 23:00:00\" --model_ver wflow_tofuflex_t wflow_tofuflex --sp_config \"_1km\" --sample_size \"256\" --num_processes 48\n"
     ]
    }
   ],
   "source": [
    "import pandas as pd\n",
    "\n",
    "wsName_list = [\"san-diego_california_20331196_11023340\",\n",
    "               \"fulton_georgia_2047963_02336410\"\n",
    "              ]\n",
    "model_ver_list = [\"wflow_tofuflex\",\n",
    "                 \"wflow_tofuflex_ns\",\n",
    "                 \"wflow_topoflex_bm\"]\n",
    "\n",
    "#wsName = \"san-diego_california_20331196_11023340\"\n",
    "wsName = wsName_list[0]\n",
    "\n",
    "#######################\n",
    "#### SET THIS CORRECTLY\n",
    "#csv_path = str(\"D:\\\\wflow_models\\\\\" + \"combined_samples_0716_\" + wsName + \".csv\") ### set this correctly.\n",
    "csv_path = str(\"D:\\\\wflow_models\\\\\" + \"combined_samples_0716_\" + wsName + \".csv\") ### set this correctly.\n",
    "df =  pd.read_csv(csv_path)#.iloc[250:499, :] #adjust if needed?\n",
    "sample_size = len(df)\n",
    "print(str(\"sample size running: \") + str(sample_size))\n",
    "sp_config = \"_1km\" # \"\" for 90m, \"_1km\" for 1km\n",
    "\n",
    "outpath = str(\"output\"+ sp_config +\"_\"+ date.today().strftime(\"%Y%m%d\"))\n",
    "print(outpath)\n",
    "#######################\n",
    "#######################\n",
    "\n",
    "datetimestart = \"2012-09-01 01:00:00\"\n",
    "datetimeend = \"2018-10-01 23:00:00\"\n",
    "\n",
    "model_ver = [\"wflow_tofuflex_t\",\n",
    "            \"wflow_tofuflex\"]\n",
    "num_processes = 48\n",
    "\n",
    "command = f'%run par_run_argsin.py --outpath \"{outpath}\" --wsName \"{wsName}\" --datetimestart \"{datetimestart}\" --datetimeend \"{datetimeend}\" --model_ver {\" \".join(model_ver)} --sp_config \"{sp_config}\" --sample_size \"{sample_size}\" --num_processes {num_processes}'\n",
    "print(command)"
   ]
  },
  {
   "cell_type": "code",
   "execution_count": 4,
   "metadata": {
    "collapsed": true,
    "jupyter": {
     "outputs_hidden": true,
     "source_hidden": true
    }
   },
   "outputs": [
    {
     "ename": "NameError",
     "evalue": "name 'sp_congif' is not defined",
     "output_type": "error",
     "traceback": [
      "\u001b[1;31m---------------------------------------------------------------------------\u001b[0m",
      "\u001b[1;31mNameError\u001b[0m                                 Traceback (most recent call last)",
      "Cell \u001b[1;32mIn[4], line 3\u001b[0m\n\u001b[0;32m      1\u001b[0m sp_config \u001b[38;5;241m=\u001b[39m \u001b[38;5;28mstr\u001b[39m(\u001b[38;5;124m\"\u001b[39m\u001b[38;5;124m\"\u001b[39m) \u001b[38;5;66;03m# \"\" for 90m, \"_1km\" for 1km\u001b[39;00m\n\u001b[0;32m      2\u001b[0m sample_size \u001b[38;5;241m=\u001b[39m \u001b[38;5;241m50\u001b[39m\n\u001b[1;32m----> 3\u001b[0m outpath \u001b[38;5;241m=\u001b[39m \u001b[38;5;28mstr\u001b[39m(\u001b[38;5;124m\"\u001b[39m\u001b[38;5;124moutput\u001b[39m\u001b[38;5;124m\"\u001b[39m\u001b[38;5;241m+\u001b[39m sp_congif\u001b[38;5;241m+\u001b[39m \u001b[38;5;124m\"\u001b[39m\u001b[38;5;124m_\u001b[39m\u001b[38;5;124m\"\u001b[39m\u001b[38;5;241m+\u001b[39m date\u001b[38;5;241m.\u001b[39mtoday()\u001b[38;5;241m.\u001b[39mstrftime(\u001b[38;5;124m\"\u001b[39m\u001b[38;5;124m%\u001b[39m\u001b[38;5;124mY\u001b[39m\u001b[38;5;124m%\u001b[39m\u001b[38;5;124mm\u001b[39m\u001b[38;5;132;01m%d\u001b[39;00m\u001b[38;5;124m\"\u001b[39m))\n\u001b[0;32m      6\u001b[0m fake_command \u001b[38;5;241m=\u001b[39m \u001b[38;5;124mf\u001b[39m\u001b[38;5;124m'\u001b[39m\u001b[38;5;124m%run par_run_argsin.py --outpath \u001b[39m\u001b[38;5;124m\"\u001b[39m\u001b[38;5;132;01m{\u001b[39;00moutpath\u001b[38;5;132;01m}\u001b[39;00m\u001b[38;5;124m\"\u001b[39m\u001b[38;5;124m --wsName \u001b[39m\u001b[38;5;124m\"\u001b[39m\u001b[38;5;132;01m{\u001b[39;00mwsName\u001b[38;5;132;01m}\u001b[39;00m\u001b[38;5;124m\"\u001b[39m\u001b[38;5;124m --datetimestart \u001b[39m\u001b[38;5;124m\"\u001b[39m\u001b[38;5;132;01m{\u001b[39;00mdatetimestart\u001b[38;5;132;01m}\u001b[39;00m\u001b[38;5;124m\"\u001b[39m\u001b[38;5;124m --datetimeend \u001b[39m\u001b[38;5;124m\"\u001b[39m\u001b[38;5;132;01m{\u001b[39;00mdatetimeend\u001b[38;5;132;01m}\u001b[39;00m\u001b[38;5;124m\"\u001b[39m\u001b[38;5;124m --model_ver \u001b[39m\u001b[38;5;132;01m{\u001b[39;00m\u001b[38;5;124m\"\u001b[39m\u001b[38;5;124m \u001b[39m\u001b[38;5;124m\"\u001b[39m\u001b[38;5;241m.\u001b[39mjoin(model_ver)\u001b[38;5;132;01m}\u001b[39;00m\u001b[38;5;124m --sp_config \u001b[39m\u001b[38;5;124m\"\u001b[39m\u001b[38;5;132;01m{\u001b[39;00msp_config\u001b[38;5;132;01m}\u001b[39;00m\u001b[38;5;124m\"\u001b[39m\u001b[38;5;124m --sample_size \u001b[39m\u001b[38;5;124m\"\u001b[39m\u001b[38;5;132;01m{\u001b[39;00msample_size\u001b[38;5;132;01m}\u001b[39;00m\u001b[38;5;124m\"\u001b[39m\u001b[38;5;124m --num_processes \u001b[39m\u001b[38;5;132;01m{\u001b[39;00mnum_processes\u001b[38;5;132;01m}\u001b[39;00m\u001b[38;5;124m'\u001b[39m\n\u001b[0;32m      7\u001b[0m \u001b[38;5;28mprint\u001b[39m(fake_command)\n",
      "\u001b[1;31mNameError\u001b[0m: name 'sp_congif' is not defined"
     ]
    }
   ],
   "source": [
    "sp_config = str(\"\") # \"\" for 90m, \"_1km\" for 1km\n",
    "sample_size = 50\n",
    "outpath = str(\"output\"+ sp_congif+ \"_\"+ date.today().strftime(\"%Y%m%d\"))\n",
    "\n",
    "\n",
    "fake_command = f'%run par_run_argsin.py --outpath \"{outpath}\" --wsName \"{wsName}\" --datetimestart \"{datetimestart}\" --datetimeend \"{datetimeend}\" --model_ver {\" \".join(model_ver)} --sp_config \"{sp_config}\" --sample_size \"{sample_size}\" --num_processes {num_processes}'\n",
    "print(fake_command)"
   ]
  },
  {
   "cell_type": "raw",
   "metadata": {},
   "source": [
    "intbl = os.path.join(\"temp\", str(1), \"intbl\")\n",
    "print(intbl)\n",
    "caseName = os.path.join(\"D:\\\\\", \"wflow_models\", wsName)\n",
    "print(caseName)\n",
    "\n",
    "import glob\n",
    "print(os.path.join(caseName, intbl))\n",
    "print(glob.glob(os.path.join(caseName, intbl + \"/*.tbl\")))"
   ]
  },
  {
   "cell_type": "code",
   "execution_count": null,
   "metadata": {},
   "outputs": [],
   "source": [
    "# fake run"
   ]
  },
  {
   "cell_type": "markdown",
   "metadata": {},
   "source": [
    "# Actual run"
   ]
  },
  {
   "cell_type": "code",
   "execution_count": 5,
   "metadata": {},
   "outputs": [
    {
     "name": "stdout",
     "output_type": "stream",
     "text": [
      "Completed all processes.\n",
      "Total runtime: 34139.19 seconds\n",
      "Average iteration runtime: 3222.31 seconds\n",
      "Max iteration runtime: 3640.26 seconds\n",
      "Min iteration runtime: 2062.34 seconds\n"
     ]
    }
   ],
   "source": [
    "# n = 48. Fullton Top 256. t + FULL\n",
    "get_ipython().run_line_magic('run', command.split(' ', 1)[1])"
   ]
  },
  {
   "cell_type": "code",
   "execution_count": 5,
   "metadata": {},
   "outputs": [
    {
     "name": "stdout",
     "output_type": "stream",
     "text": [
      "Completed all processes.\n",
      "Total runtime: 33966.63 seconds\n",
      "Average iteration runtime: 3080.88 seconds\n",
      "Max iteration runtime: 3911.34 seconds\n",
      "Min iteration runtime: 1888.80 seconds\n"
     ]
    }
   ],
   "source": [
    "#n= 48. SD Total 256. t + FULL \n",
    "get_ipython().run_line_magic('run', command.split(' ', 1)[1])"
   ]
  }
 ],
 "metadata": {
  "kernelspec": {
   "display_name": "Python (wflow)",
   "language": "python",
   "name": "wflow"
  },
  "language_info": {
   "codemirror_mode": {
    "name": "ipython",
    "version": 3
   },
   "file_extension": ".py",
   "mimetype": "text/x-python",
   "name": "python",
   "nbconvert_exporter": "python",
   "pygments_lexer": "ipython3",
   "version": "3.12.3"
  },
  "vscode": {
   "interpreter": {
    "hash": "ccd0498467042aa026a03259adc37c4ad92a8506b662418c41643a5939da5b94"
   }
  }
 },
 "nbformat": 4,
 "nbformat_minor": 4
}
