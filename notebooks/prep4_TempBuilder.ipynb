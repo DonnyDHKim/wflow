{
 "cells": [
  {
   "cell_type": "markdown",
   "id": "6f5048fe-00c8-4732-9053-1358c1de4414",
   "metadata": {},
   "source": [
    "# Import Library"
   ]
  },
  {
   "cell_type": "code",
   "execution_count": 1,
   "id": "9cf5cf82-ecb0-4478-af35-707d22fcc428",
   "metadata": {
    "tags": []
   },
   "outputs": [
    {
     "data": {
      "text/plain": [
       "'D:\\\\'"
      ]
     },
     "execution_count": 1,
     "metadata": {},
     "output_type": "execute_result"
    }
   ],
   "source": [
    "import os\n",
    "import csv\n",
    "import pandas as pd\n",
    "import shutil\n",
    "#os.chdir('/mnt/c/Workspace/Ch3/wflow/')\n",
    "#os.chdir('/mnt/d/')\n",
    "os.chdir(os.path.join(\"D:\\\\\"))\n",
    "\n",
    "os.getcwd()"
   ]
  },
  {
   "cell_type": "markdown",
   "id": "d6655378-0c6d-464d-a4ec-8f95f13c8e34",
   "metadata": {
    "tags": []
   },
   "source": [
    "# Temp directory"
   ]
  },
  {
   "cell_type": "code",
   "execution_count": 2,
   "id": "8ddd93a1-cb5a-4d33-b95d-3719117ee456",
   "metadata": {
    "tags": []
   },
   "outputs": [],
   "source": [
    "wsName_list = [\"stark_ohio_19389766_03118500\",\n",
    "          \"san-diego_california_20331196_11023340\",\n",
    "          \"bexar_texas_10836388_08181480\",\n",
    "          #\"douglas_georgia_3286256_02337000\",\n",
    "          \"fulton_georgia_2047963_02336410\"\n",
    "         ]\n",
    "\n",
    "# For test purpose, set wsName.\n",
    "wsName = \"san-diego_california_20331196_11023340\"\n"
   ]
  },
  {
   "cell_type": "code",
   "execution_count": 3,
   "id": "1755271c-a4a1-4bff-9a19-3dee9d52b467",
   "metadata": {
    "tags": []
   },
   "outputs": [],
   "source": [
    "#model_directory = str(\"./wflow_models/\" + wsName + \"/\")\n",
    "model_directory = str(\"./wflow_models/\")\n",
    "\n",
    "#intbl_directory = str(\"./wflow_models/\" + wsName + \"/intbl/\")\n",
    "intbl_directory = str(\"./wflow_models/\" + \"/intbl/\")\n",
    "\n",
    "static_directory = str(\"./wflow_models/\" +wsName + \"/staticmaps/\")\n",
    "temp_directory = str(\"./wflow_models/\" + wsName + \"/temp/\")\n",
    "csv_file_path = str(\"./wflow_models/combined_samples.csv\")\n",
    "if not os.path.exists(temp_directory):\n",
    "    os.mkdir(temp_directory)"
   ]
  },
  {
   "cell_type": "code",
   "execution_count": 4,
   "id": "584d2617-e28f-4e35-b78d-2f6b566082d3",
   "metadata": {
    "tags": []
   },
   "outputs": [
    {
     "name": "stdout",
     "output_type": "stream",
     "text": [
      "     beta_W  beta_HP   D_H   D_P  Kf_fast  Kf_slow  Sumax_W  Sumax_HP\n",
      "0      2.54     2.75  0.00  0.00    0.046    0.005    229.0     445.0\n",
      "1      0.48     0.49  0.01  0.01    0.067    0.010     78.0     114.0\n",
      "2      4.42     4.83  0.08  0.09    0.073    0.009     50.0      95.0\n",
      "3      4.84     4.93  0.31  0.31    0.016    0.007     87.0     121.0\n",
      "4      1.45     1.53  0.54  0.68    0.079    0.003    197.0     335.0\n",
      "..      ...      ...   ...   ...      ...      ...      ...       ...\n",
      "195    0.22     0.23  0.16  0.21    0.050    0.009    101.0     110.0\n",
      "196    0.23     0.24  0.17  0.19    0.044    0.009    114.0     215.0\n",
      "197    0.17     0.18  0.15  0.19    0.041    0.009    110.0     158.0\n",
      "198    0.29     0.30  0.16  0.21    0.056    0.007    105.0     144.0\n",
      "199    0.26     0.26  0.24  0.34    0.042    0.006     84.0     118.0\n",
      "\n",
      "[200 rows x 8 columns]\n"
     ]
    }
   ],
   "source": [
    "df = pd.read_csv(csv_file_path)\n",
    "print(df)"
   ]
  },
  {
   "cell_type": "markdown",
   "id": "cfbc7469-885f-4661-a6d2-45b47f16bbf7",
   "metadata": {},
   "source": [
    "# Define some functions"
   ]
  },
  {
   "cell_type": "code",
   "execution_count": 6,
   "id": "6e7eef0a-bc1e-41c4-90c8-d340bb1b6361",
   "metadata": {
    "tags": []
   },
   "outputs": [],
   "source": [
    "def modify_and_save_ini(file_path, index, new_file_path):\n",
    "    # Read the existing content from the file\n",
    "    with open(file_path, 'r', encoding='utf-8') as file:\n",
    "        lines = file.readlines()\n",
    "    \n",
    "    # Modify lines containing 'intbl'\n",
    "    modified_lines = []\n",
    "    for line in lines:\n",
    "        if 'intbl' in line:\n",
    "            modified_line = f'intbl = temp/{index}/intbl\\n'\n",
    "            modified_lines.append(modified_line)\n",
    "        else:\n",
    "            modified_lines.append(line)\n",
    "    \n",
    "    # Save the modified content to a new file\n",
    "    with open(new_file_path, 'w', encoding='utf-8') as new_file:\n",
    "        new_file.writelines(modified_lines)"
   ]
  },
  {
   "cell_type": "code",
   "execution_count": 5,
   "id": "94536d1a-9cac-43ef-adec-b86318f8e9e7",
   "metadata": {
    "tags": []
   },
   "outputs": [],
   "source": [
    "import re\n",
    "\n",
    "def modify_and_save_intbl(file_path, new_number, new_file_path):\n",
    "    # Read the existing text\n",
    "    with open(file_path, 'r', encoding='utf-8') as file:\n",
    "        existing_text = file.read()\n",
    "    \n",
    "    # Use regular expression to find and replace the last number in the given pattern\n",
    "    pattern = r'(\\[0,> \\[0,> \\[0,> )\\d+\\.?\\d*'\n",
    "    replacement = r'\\g<1>' + str(new_number)  # Convert new_number to string if not already\n",
    "    modified_text = re.sub(pattern, replacement, existing_text)\n",
    "    \n",
    "    # Save the modified text to the new file path\n",
    "    with open(new_file_path, 'w', encoding='utf-8') as new_file:\n",
    "        new_file.write(modified_text)"
   ]
  },
  {
   "cell_type": "code",
   "execution_count": 6,
   "id": "7d60283a-7222-4550-ae46-b0d3d731499f",
   "metadata": {
    "tags": []
   },
   "outputs": [],
   "source": [
    "import pcraster as pcr\n",
    "import numpy as np\n",
    "\n",
    "def process_Kf_files(directory, identifiers, static_directory):\n",
    "    \"\"\"\n",
    "    Process files in the specified directory with the given identifiers.\n",
    "    \n",
    "    Parameters:\n",
    "    - directory: The path to the directory containing the files.\n",
    "    - identifiers: A list of identifiers for the files to be processed.\n",
    "    \"\"\"\n",
    "    TIA =  pcr.readmap(static_directory + \"/TIA.map\")\n",
    "\n",
    "\n",
    "    for i in identifiers:          \n",
    "        percent = pcr.readmap(static_directory + \"/wflow_percent\" + i + \".map\")\n",
    "        catchment = pcr.readmap(static_directory + \"/wflow_ws.map\")\n",
    "\n",
    "        TIA_stat = pcr.areaaverage(TIA * percent, catchment)\n",
    "        TIA_stat2 = pcr.pcr2numpy(TIA_stat, mv=np.nan)\n",
    "        TIA_stat3 = np.nanmean(TIA_stat2)\n",
    "        \n",
    "        #print(str(\"Average TIA for \" + i + \" :\"+ str(TIA_stat3)))\n",
    "        \n",
    "        if i == \"W\":\n",
    "            #print(\"For W, not performing Kf modification\")\n",
    "            continue\n",
    "                        \n",
    "        # Construct the original and new file names\n",
    "        original_file_name = f\"Kf{i}_OG.tbl\"\n",
    "        new_file_name = f\"Kf{i}.tbl\"\n",
    "        \n",
    "        # Path to the original and new files\n",
    "        original_file_path = os.path.join(directory, original_file_name)\n",
    "        new_file_path = os.path.join(directory, new_file_name)\n",
    "        \n",
    "        # Open the original file\n",
    "        with open(original_file_path, 'r') as file:\n",
    "            # Read the line\n",
    "            line = file.readline().strip()\n",
    "            # Extract the last number\n",
    "            parts = line.split(' ')\n",
    "            last_number = float(parts[-1])\n",
    "            \n",
    "            # Perform the calculation\n",
    "            new_number = round(last_number * (1 + 0.02/2 * TIA_stat3 * 100), 4)\n",
    "            #new_number = last_number\n",
    "            \n",
    "            # Prepare the new line with the calculated number\n",
    "            new_line = line.rsplit(' ', 1)[0] + f' {new_number}'\n",
    "        \n",
    "        # Write the new line to the new file\n",
    "        with open(new_file_path, 'w') as file:\n",
    "            file.write(new_line)\n"
   ]
  },
  {
   "cell_type": "markdown",
   "id": "4b9c6fcd-c025-4b35-be9f-d51d7a7abe7f",
   "metadata": {},
   "source": [
    "# Loop"
   ]
  },
  {
   "cell_type": "code",
   "execution_count": 40,
   "id": "c6db1378-e1ae-48a5-ae4e-06991f6ee060",
   "metadata": {
    "execution": {
     "iopub.execute_input": "2024-04-08T07:19:46.879033Z",
     "iopub.status.busy": "2024-04-08T07:19:46.878462Z",
     "iopub.status.idle": "2024-04-08T07:19:46.884135Z",
     "shell.execute_reply": "2024-04-08T07:19:46.882982Z",
     "shell.execute_reply.started": "2024-04-08T07:19:46.879006Z"
    },
    "tags": []
   },
   "outputs": [
    {
     "name": "stdout",
     "output_type": "stream",
     "text": [
      "<generator object DataFrame.iterrows at 0x7fd7e9047ca0>\n"
     ]
    }
   ],
   "source": [
    "print(df.iterrows())"
   ]
  },
  {
   "cell_type": "code",
   "execution_count": 8,
   "id": "61402785-7b24-463a-983f-bbec8913f271",
   "metadata": {
    "tags": []
   },
   "outputs": [
    {
     "name": "stdout",
     "output_type": "stream",
     "text": [
      "6 / 200    "
     ]
    },
    {
     "name": "stderr",
     "output_type": "stream",
     "text": [
      "C:\\Users\\dkim8398\\AppData\\Local\\Temp\\ipykernel_22080\\2161256180.py:21: FutureWarning: Series.__getitem__ treating keys as positions is deprecated. In a future version, integer keys will always be treated as labels (consistent with DataFrame behavior). To access a value by position, use `ser.iloc[pos]`\n",
      "  modify_and_save_intbl(temp_iter_intbl_directory+\"/betaW\"+\".tbl\", row[0], temp_iter_intbl_directory+\"/betaW\"+\".tbl\")\n",
      "C:\\Users\\dkim8398\\AppData\\Local\\Temp\\ipykernel_22080\\2161256180.py:22: FutureWarning: Series.__getitem__ treating keys as positions is deprecated. In a future version, integer keys will always be treated as labels (consistent with DataFrame behavior). To access a value by position, use `ser.iloc[pos]`\n",
      "  modify_and_save_intbl(temp_iter_intbl_directory+\"/betaAP\"+\".tbl\", row[0], temp_iter_intbl_directory+\"/betaAP\"+\".tbl\")\n",
      "C:\\Users\\dkim8398\\AppData\\Local\\Temp\\ipykernel_22080\\2161256180.py:24: FutureWarning: Series.__getitem__ treating keys as positions is deprecated. In a future version, integer keys will always be treated as labels (consistent with DataFrame behavior). To access a value by position, use `ser.iloc[pos]`\n",
      "  modify_and_save_intbl(temp_iter_intbl_directory+\"/betaH\"+\".tbl\", row[1], temp_iter_intbl_directory+\"/betaH\"+\".tbl\")\n",
      "C:\\Users\\dkim8398\\AppData\\Local\\Temp\\ipykernel_22080\\2161256180.py:25: FutureWarning: Series.__getitem__ treating keys as positions is deprecated. In a future version, integer keys will always be treated as labels (consistent with DataFrame behavior). To access a value by position, use `ser.iloc[pos]`\n",
      "  modify_and_save_intbl(temp_iter_intbl_directory+\"/betaP\"+\".tbl\", row[1], temp_iter_intbl_directory+\"/betaP\"+\".tbl\")\n",
      "C:\\Users\\dkim8398\\AppData\\Local\\Temp\\ipykernel_22080\\2161256180.py:27: FutureWarning: Series.__getitem__ treating keys as positions is deprecated. In a future version, integer keys will always be treated as labels (consistent with DataFrame behavior). To access a value by position, use `ser.iloc[pos]`\n",
      "  modify_and_save_intbl(temp_iter_intbl_directory+\"/DH\"+\".tbl\", row[2], temp_iter_intbl_directory+\"/DH\"+\".tbl\")\n",
      "C:\\Users\\dkim8398\\AppData\\Local\\Temp\\ipykernel_22080\\2161256180.py:28: FutureWarning: Series.__getitem__ treating keys as positions is deprecated. In a future version, integer keys will always be treated as labels (consistent with DataFrame behavior). To access a value by position, use `ser.iloc[pos]`\n",
      "  modify_and_save_intbl(temp_iter_intbl_directory+\"/DP\"+\".tbl\", row[3], temp_iter_intbl_directory+\"/DP\"+\".tbl\")\n",
      "C:\\Users\\dkim8398\\AppData\\Local\\Temp\\ipykernel_22080\\2161256180.py:30: FutureWarning: Series.__getitem__ treating keys as positions is deprecated. In a future version, integer keys will always be treated as labels (consistent with DataFrame behavior). To access a value by position, use `ser.iloc[pos]`\n",
      "  modify_and_save_intbl(temp_iter_intbl_directory+\"/KfW_OG\"+\".tbl\", row[4], temp_iter_intbl_directory+\"/KfW_OG\"+\".tbl\")\n",
      "C:\\Users\\dkim8398\\AppData\\Local\\Temp\\ipykernel_22080\\2161256180.py:31: FutureWarning: Series.__getitem__ treating keys as positions is deprecated. In a future version, integer keys will always be treated as labels (consistent with DataFrame behavior). To access a value by position, use `ser.iloc[pos]`\n",
      "  modify_and_save_intbl(temp_iter_intbl_directory+\"/KfaP_OG\"+\".tbl\", row[4], temp_iter_intbl_directory+\"/KfaP_OG\"+\".tbl\")\n",
      "C:\\Users\\dkim8398\\AppData\\Local\\Temp\\ipykernel_22080\\2161256180.py:32: FutureWarning: Series.__getitem__ treating keys as positions is deprecated. In a future version, integer keys will always be treated as labels (consistent with DataFrame behavior). To access a value by position, use `ser.iloc[pos]`\n",
      "  modify_and_save_intbl(temp_iter_intbl_directory+\"/Kfimp_OG\"+\".tbl\", row[4], temp_iter_intbl_directory+\"/Kfimp_OG\"+\".tbl\")\n",
      "C:\\Users\\dkim8398\\AppData\\Local\\Temp\\ipykernel_22080\\2161256180.py:34: FutureWarning: Series.__getitem__ treating keys as positions is deprecated. In a future version, integer keys will always be treated as labels (consistent with DataFrame behavior). To access a value by position, use `ser.iloc[pos]`\n",
      "  modify_and_save_intbl(temp_iter_intbl_directory+\"/KfP_OG\"+\".tbl\", row[5], temp_iter_intbl_directory+\"/KfP_OG\"+\".tbl\")\n",
      "C:\\Users\\dkim8398\\AppData\\Local\\Temp\\ipykernel_22080\\2161256180.py:35: FutureWarning: Series.__getitem__ treating keys as positions is deprecated. In a future version, integer keys will always be treated as labels (consistent with DataFrame behavior). To access a value by position, use `ser.iloc[pos]`\n",
      "  modify_and_save_intbl(temp_iter_intbl_directory+\"/KfH_OG\"+\".tbl\", row[5], temp_iter_intbl_directory+\"/KfH_OG\"+\".tbl\")\n",
      "C:\\Users\\dkim8398\\AppData\\Local\\Temp\\ipykernel_22080\\2161256180.py:37: FutureWarning: Series.__getitem__ treating keys as positions is deprecated. In a future version, integer keys will always be treated as labels (consistent with DataFrame behavior). To access a value by position, use `ser.iloc[pos]`\n",
      "  modify_and_save_intbl(temp_iter_intbl_directory+\"/sumaxW\"+\".tbl\", row[6], temp_iter_intbl_directory+\"/sumaxW\"+\".tbl\")\n",
      "C:\\Users\\dkim8398\\AppData\\Local\\Temp\\ipykernel_22080\\2161256180.py:38: FutureWarning: Series.__getitem__ treating keys as positions is deprecated. In a future version, integer keys will always be treated as labels (consistent with DataFrame behavior). To access a value by position, use `ser.iloc[pos]`\n",
      "  modify_and_save_intbl(temp_iter_intbl_directory+\"/sumaxH\"+\".tbl\", row[7], temp_iter_intbl_directory+\"/sumaxH\"+\".tbl\")\n",
      "C:\\Users\\dkim8398\\AppData\\Local\\Temp\\ipykernel_22080\\2161256180.py:39: FutureWarning: Series.__getitem__ treating keys as positions is deprecated. In a future version, integer keys will always be treated as labels (consistent with DataFrame behavior). To access a value by position, use `ser.iloc[pos]`\n",
      "  modify_and_save_intbl(temp_iter_intbl_directory+\"/sumaxP\"+\".tbl\", row[7], temp_iter_intbl_directory+\"/sumaxP\"+\".tbl\")\n"
     ]
    },
    {
     "name": "stdout",
     "output_type": "stream",
     "text": [
      "200 / 200    \n"
     ]
    }
   ],
   "source": [
    "identifiers = ['W', 'H', 'P']\n",
    "\n",
    "for index, row in df.iterrows():\n",
    "    \n",
    "    print(f\"\\r{index + 1} / {len(df)}\", end='    ', flush=True)\n",
    "    temp_iter_directory = str(temp_directory+str(index))\n",
    "    temp_iter_intbl_directory = temp_iter_directory + \"/intbl/\"\n",
    "    \n",
    "    #if not os.path.exists(temp_iter_directory):\n",
    "    #    os.mkdir(temp_iter_directory)\n",
    "        \n",
    "    try:\n",
    "        shutil.copytree(intbl_directory, temp_iter_intbl_directory, dirs_exist_ok=True)\n",
    "    except Exception as e:\n",
    "        print(f\"Error occurred: {e}\")\n",
    "        \n",
    "    modify_and_save_ini(model_directory+\"/wflow_tofuflex.ini\", index, temp_iter_directory+\"/wflow_tofuflex_\"+str(index)+\".ini\")\n",
    "    modify_and_save_ini(model_directory+\"/wflow_tofuflex_ns.ini\", index, temp_iter_directory+\"/wflow_tofuflex_ns_\"+str(index)+\".ini\")\n",
    "    modify_and_save_ini(model_directory+\"/wflow_topoflex_bm.ini\", index, temp_iter_directory+\"/wflow_topoflex_bm_\"+str(index)+\".ini\")\n",
    "        \n",
    "    modify_and_save_intbl(temp_iter_intbl_directory+\"/betaW\"+\".tbl\", row[0], temp_iter_intbl_directory+\"/betaW\"+\".tbl\")\n",
    "    modify_and_save_intbl(temp_iter_intbl_directory+\"/betaAP\"+\".tbl\", row[0], temp_iter_intbl_directory+\"/betaAP\"+\".tbl\")\n",
    "    \n",
    "    modify_and_save_intbl(temp_iter_intbl_directory+\"/betaH\"+\".tbl\", row[1], temp_iter_intbl_directory+\"/betaH\"+\".tbl\")\n",
    "    modify_and_save_intbl(temp_iter_intbl_directory+\"/betaP\"+\".tbl\", row[1], temp_iter_intbl_directory+\"/betaP\"+\".tbl\")\n",
    "    \n",
    "    modify_and_save_intbl(temp_iter_intbl_directory+\"/DH\"+\".tbl\", row[2], temp_iter_intbl_directory+\"/DH\"+\".tbl\")\n",
    "    modify_and_save_intbl(temp_iter_intbl_directory+\"/DP\"+\".tbl\", row[3], temp_iter_intbl_directory+\"/DP\"+\".tbl\")\n",
    "    \n",
    "    modify_and_save_intbl(temp_iter_intbl_directory+\"/KfW_OG\"+\".tbl\", row[4], temp_iter_intbl_directory+\"/KfW_OG\"+\".tbl\")\n",
    "    modify_and_save_intbl(temp_iter_intbl_directory+\"/KfaP_OG\"+\".tbl\", row[4], temp_iter_intbl_directory+\"/KfaP_OG\"+\".tbl\")\n",
    "    modify_and_save_intbl(temp_iter_intbl_directory+\"/Kfimp_OG\"+\".tbl\", row[4], temp_iter_intbl_directory+\"/Kfimp_OG\"+\".tbl\")\n",
    "    \n",
    "    modify_and_save_intbl(temp_iter_intbl_directory+\"/KfP_OG\"+\".tbl\", row[5], temp_iter_intbl_directory+\"/KfP_OG\"+\".tbl\")\n",
    "    modify_and_save_intbl(temp_iter_intbl_directory+\"/KfH_OG\"+\".tbl\", row[5], temp_iter_intbl_directory+\"/KfH_OG\"+\".tbl\")\n",
    "\n",
    "    modify_and_save_intbl(temp_iter_intbl_directory+\"/sumaxW\"+\".tbl\", row[6], temp_iter_intbl_directory+\"/sumaxW\"+\".tbl\")\n",
    "    modify_and_save_intbl(temp_iter_intbl_directory+\"/sumaxH\"+\".tbl\", row[7], temp_iter_intbl_directory+\"/sumaxH\"+\".tbl\")\n",
    "    modify_and_save_intbl(temp_iter_intbl_directory+\"/sumaxP\"+\".tbl\", row[7], temp_iter_intbl_directory+\"/sumaxP\"+\".tbl\")\n",
    "    \n",
    "    process_Kf_files(temp_iter_intbl_directory, identifiers, static_directory)\n",
    "\n",
    "print()"
   ]
  },
  {
   "cell_type": "markdown",
   "id": "3ac770fb-e94f-44ec-a624-bcec6974fc40",
   "metadata": {},
   "source": [
    "# Just the ini file"
   ]
  },
  {
   "cell_type": "code",
   "execution_count": 6,
   "id": "fd2593f2-8e6d-4a11-a2d5-8c5849cb5704",
   "metadata": {
    "tags": []
   },
   "outputs": [
    {
     "name": "stdout",
     "output_type": "stream",
     "text": [
      "200 / 200    \n"
     ]
    }
   ],
   "source": [
    "for index, row in df.iterrows():\n",
    "    \n",
    "    print(f\"\\r{index + 1} / {len(df)}\", end='    ', flush=True)\n",
    "    temp_iter_directory = str(temp_directory+str(index))\n",
    "        \n",
    "    modify_and_save_ini(model_directory+\"/wflow_tofuflex.ini\", index, temp_iter_directory+\"/wflow_tofuflex_\"+str(index)+\".ini\")\n",
    "    modify_and_save_ini(model_directory+\"/wflow_tofuflex_ns.ini\", index, temp_iter_directory+\"/wflow_tofuflex_ns_\"+str(index)+\".ini\")\n",
    "    modify_and_save_ini(model_directory+\"/wflow_topoflex_bm.ini\", index, temp_iter_directory+\"/wflow_topoflex_bm_\"+str(index)+\".ini\")\n",
    "\n",
    "print()"
   ]
  },
  {
   "cell_type": "markdown",
   "id": "1947fdaf-4657-464b-ae7f-0a716816c2df",
   "metadata": {},
   "source": [
    "# 1km models"
   ]
  },
  {
   "cell_type": "code",
   "execution_count": 7,
   "id": "a692264f-32b8-4ab8-9a0a-227360d054e2",
   "metadata": {
    "tags": []
   },
   "outputs": [
    {
     "name": "stdout",
     "output_type": "stream",
     "text": [
      "200 / 200    \n"
     ]
    }
   ],
   "source": [
    "for index, row in df.iterrows():\n",
    "    \n",
    "    print(f\"\\r{index + 1} / {len(df)}\", end='    ', flush=True)\n",
    "    temp_iter_directory = str(temp_directory+str(index))\n",
    "\n",
    "    modify_and_save_ini(model_directory+\"/wflow_topoflex_bm1k.ini\", index, temp_iter_directory+\"/wflow_topoflex_bm1k_\"+str(index)+\".ini\")\n",
    "\n",
    "print()"
   ]
  },
  {
   "cell_type": "code",
   "execution_count": null,
   "id": "9adc7fef-d78b-42c7-a2a2-7b372744b00d",
   "metadata": {},
   "outputs": [],
   "source": []
  }
 ],
 "metadata": {
  "kernelspec": {
   "display_name": "Python (wflow)",
   "language": "python",
   "name": "wflow"
  },
  "language_info": {
   "codemirror_mode": {
    "name": "ipython",
    "version": 3
   },
   "file_extension": ".py",
   "mimetype": "text/x-python",
   "name": "python",
   "nbconvert_exporter": "python",
   "pygments_lexer": "ipython3",
   "version": "3.12.3"
  }
 },
 "nbformat": 4,
 "nbformat_minor": 5
}
