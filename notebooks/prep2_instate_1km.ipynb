{
 "cells": [
  {
   "cell_type": "markdown",
   "id": "17c81467-be47-44b0-9b3e-569eb1cc2f3f",
   "metadata": {},
   "source": [
    "# instate prep"
   ]
  },
  {
   "cell_type": "code",
   "execution_count": 2,
   "id": "708fec04-fe74-4514-9aa3-3a3a6e5498fc",
   "metadata": {
    "tags": []
   },
   "outputs": [
    {
     "name": "stdout",
     "output_type": "stream",
     "text": [
      "fulton_georgia_2047963_02336410\n",
      "instate path created\n",
      "Qstate.map\n",
      "Qeiastate.map\n",
      "SiW.map\n",
      "SiH.map\n",
      "SiP.map\n",
      "SwW.map\n",
      "SwH.map\n",
      "SwP.map\n",
      "SaW.map\n",
      "SaH.map\n",
      "SaP.map\n",
      "SuW.map\n",
      "SuH.map\n",
      "SuP.map\n",
      "SfW.map\n",
      "SfH.map\n",
      "SfP.map\n",
      "SfaP.map\n",
      "Sfimp.map\n",
      "Ss.map\n",
      "WaterLevel.map\n"
     ]
    }
   ],
   "source": [
    "import os\n",
    "import pcraster as pcr\n",
    "\n",
    "wsName_list = [\"stark_ohio_19389766_03118500\",\n",
    "          \"san-diego_california_20331196_11023340\",\n",
    "          \"bexar_texas_10836388_08181480\",\n",
    "          #\"douglas_georgia_3286256_02337000\",\n",
    "          \"fulton_georgia_2047963_02336410\"\n",
    "         ]\n",
    "\n",
    "wsName = \"fulton_georgia_2047963_02336410\"\n",
    "print(wsName)\n",
    "\n",
    "instate_names = ['Qstate.map', 'Qeiastate.map',\n",
    "                 'SiW.map','SiH.map', 'SiP.map',\n",
    "                 'SwW.map','SwH.map', 'SwP.map',\n",
    "                 'SaW.map','SaH.map', 'SaP.map',\n",
    "                 'SuW.map','SuH.map', 'SuP.map',\n",
    "                 'SfW.map','SfH.map', 'SfP.map', 'SfaP.map', 'Sfimp.map',\n",
    "                 'Ss.map', 'WaterLevel.map'\n",
    "                ]\n",
    "\n",
    "#static_dir = str(\"/mnt/c/Workspace/Ch3/wflow_models/\" + wsName +  \"/staticmaps/\")\n",
    "#instate_dir = str(\"/mnt/c/Workspace/Ch3/wflow_models/\" + wsName +  \"/instate/\")\n",
    "\n",
    "#static_dir = str(\"/mnt/d/wflow_models/\" + wsName +  \"/staticmaps/\")\n",
    "#instate_dir = str(\"/mnt/d/wflow_models/\" + wsName +  \"/instate/\")\n",
    "\n",
    "static_dir = os.path.join(\"D:\\\\\", \"wflow_models\", wsName, \"staticmaps_1km\")\n",
    "instate_dir = os.path.join(\"D:\\\\\", \"wflow_models\", wsName, \"instate_1km\")\n",
    "\n",
    "if not os.path.exists(instate_dir):\n",
    "    os.makedirs(instate_dir)\n",
    "    print(\"instate path created\")\n",
    "else:\n",
    "    print(\"instate path exists\")\n",
    "\n",
    "demfilename = \"wflow_subcatch.map\"\n",
    "dem_dir = os.path.join(static_dir, demfilename)\n",
    "dem = pcr.readmap(dem_dir)\n",
    "\n",
    "pcr.setclone(dem_dir)\n",
    "\n",
    "\n",
    "for i in instate_names:\n",
    "    print(i)\n",
    "    temp = 0.0 * pcr.scalar(dem)\n",
    "    output_path = os.path.join(instate_dir, i)\n",
    "    pcr.report(pcr.scalar(temp), output_path)"
   ]
  }
 ],
 "metadata": {
  "kernelspec": {
   "display_name": "Python (wflow)",
   "language": "python",
   "name": "wflow"
  },
  "language_info": {
   "codemirror_mode": {
    "name": "ipython",
    "version": 3
   },
   "file_extension": ".py",
   "mimetype": "text/x-python",
   "name": "python",
   "nbconvert_exporter": "python",
   "pygments_lexer": "ipython3",
   "version": "3.12.3"
  }
 },
 "nbformat": 4,
 "nbformat_minor": 5
}
