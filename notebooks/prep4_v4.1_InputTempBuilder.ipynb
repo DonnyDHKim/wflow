{
 "cells": [
  {
   "cell_type": "markdown",
   "id": "6f5048fe-00c8-4732-9053-1358c1de4414",
   "metadata": {},
   "source": [
    "# Import Library"
   ]
  },
  {
   "cell_type": "code",
   "execution_count": 1,
   "id": "9cf5cf82-ecb0-4478-af35-707d22fcc428",
   "metadata": {
    "tags": []
   },
   "outputs": [],
   "source": [
    "import os\n",
    "import csv\n",
    "import pandas as pd\n",
    "import shutil\n",
    "#os.chdir('/mnt/c/Workspace/Ch3/wflow/')\n",
    "#os.chdir('/mnt/d/')\n",
    "os.chdir(os.path.join(\"D:\\\\GitHub\\\\wflow\\\\notebooks\"))\n",
    "import TempBuilder # importing custom built functions."
   ]
  },
  {
   "cell_type": "code",
   "execution_count": 2,
   "id": "2c722a96-cd56-48aa-af1e-d0d1643aed1a",
   "metadata": {},
   "outputs": [
    {
     "data": {
      "text/plain": [
       "'D:\\\\'"
      ]
     },
     "execution_count": 2,
     "metadata": {},
     "output_type": "execute_result"
    }
   ],
   "source": [
    "# Change back working directory to D\n",
    "os.chdir(os.path.join(\"D:\\\\\"))\n",
    "os.getcwd()"
   ]
  },
  {
   "cell_type": "markdown",
   "id": "d6655378-0c6d-464d-a4ec-8f95f13c8e34",
   "metadata": {
    "tags": []
   },
   "source": [
    "# Copy the instate/staticmaps corresponding to the model config that is to be used"
   ]
  },
  {
   "cell_type": "code",
   "execution_count": 3,
   "id": "8ddd93a1-cb5a-4d33-b95d-3719117ee456",
   "metadata": {
    "tags": []
   },
   "outputs": [],
   "source": [
    "wsName_list = [\"san-diego_california_20331196_11023340\",\n",
    "               \"fulton_georgia_2047963_02336410\"\n",
    "              ]\n",
    "config = str(\"1km\") #\"90\" or \"1km\""
   ]
  },
  {
   "cell_type": "code",
   "execution_count": 4,
   "id": "ec3e311d-85ba-4ea5-95ba-ffc0c713978a",
   "metadata": {},
   "outputs": [],
   "source": [
    "#import logging\n",
    "from datetime import datetime\n",
    "\n",
    "#logging.basicConfig(filename='copy_log.log', level=logging.INFO, format='%(asctime)s - %(message)s')\n",
    "\n",
    "config = str(\"1km\") #\"90\" or \"1km\"\n",
    "\n",
    "def copytree_and_overwrite(src, dst):\n",
    "    if os.path.exists(dst):\n",
    "        shutil.rmtree(dst)\n",
    "    shutil.copytree(src, dst)\n",
    "\n",
    "for n in wsName_list:\n",
    "    static_origin = os.path.join(\"./wflow_models/\", str(n+\"/inputs_\" + config), \"staticmaps\")\n",
    "    instate_origin = os.path.join(\"./wflow_models/\", str(n+\"/inputs_\" + config), \"instate\")\n",
    "    static_dst = os.path.join(\"./wflow_models/\", str(n), \"staticmaps\")\n",
    "    instate_dst = os.path.join(\"./wflow_models/\", str(n), \"instate\")\n",
    "    \n",
    "    copytree_and_overwrite(static_origin, static_dst)\n",
    "    copytree_and_overwrite(instate_origin, instate_dst)\n",
    "        \n",
    "    # Write log entry\n",
    "    log_file_path = os.path.join(\"./wflow_models/\", str(n), \"log_instate_static_copy.txt\")\n",
    "    with open(log_file_path, 'a') as log_file:\n",
    "        log_entry = f'{datetime.now()} - Copied for: {n}, Config: {config}\\n'\n",
    "        log_file.write(log_entry)\n"
   ]
  },
  {
   "cell_type": "markdown",
   "id": "a59fb208-5ea2-4d05-992d-bba15b1f04c7",
   "metadata": {},
   "source": [
    "# TempBuilder"
   ]
  },
  {
   "cell_type": "code",
   "execution_count": 7,
   "id": "00b36e87-a398-4d92-bfdf-0f3695dfd3d1",
   "metadata": {},
   "outputs": [
    {
     "data": {
      "text/plain": [
       "['san-diego_california_20331196_11023340']"
      ]
     },
     "execution_count": 7,
     "metadata": {},
     "output_type": "execute_result"
    }
   ],
   "source": [
    "wsName_list = [\"san-diego_california_20331196_11023340\",\n",
    "               \"fulton_georgia_2047963_02336410\"\n",
    "              ]\n",
    "wsName_list = [\"san-diego_california_20331196_11023340\"]\n",
    "\n",
    "#csv_file_path = os.path.join(\"./wflow_models/combined_samples.csv\")\n",
    "\n",
    "#df = pd.read_csv(csv_file_path)\n",
    "#print(df)\n",
    "wsName_list"
   ]
  },
  {
   "cell_type": "markdown",
   "id": "4b9c6fcd-c025-4b35-be9f-d51d7a7abe7f",
   "metadata": {},
   "source": [
    "# Loop"
   ]
  },
  {
   "cell_type": "code",
   "execution_count": 8,
   "id": "61402785-7b24-463a-983f-bbec8913f271",
   "metadata": {
    "tags": []
   },
   "outputs": [
    {
     "name": "stdout",
     "output_type": "stream",
     "text": [
      "D:\\wflow_models\\san-diego_california_20331196_11023340\\temp: processing\n",
      "1000 / 1000    \n"
     ]
    }
   ],
   "source": [
    "identifiers = ['W', 'H', 'P']\n",
    "\n",
    "model_directory = str(\"./wflow_models/\")\n",
    "intbl_directory = str(\"./wflow_models/\" + \"/intbl/\")\n",
    "\n",
    "for n in wsName_list:\n",
    "    static_directory = str(\"./wflow_models/\" + n + \"/staticmaps/\")\n",
    "    temp_directory = str(\"./wflow_models/\" + n + \"/temp/\")\n",
    "    csv_file_path = os.path.join(str(\"./wflow_models/combined_samples_v4_Ks_\"+ n + \".csv\"))\n",
    "    df = pd.read_csv(csv_file_path)\n",
    "\n",
    "    print(str(os.path.abspath(temp_directory) +\": processing\"))\n",
    "\n",
    "    \n",
    "    for index, row in df.iterrows():\n",
    "        \n",
    "        print(f\"\\r{index + 1} / {len(df)}\", end='    ', flush=True)\n",
    "        temp_iter_directory = str(temp_directory+str(index))\n",
    "        temp_iter_intbl_directory = temp_iter_directory + \"/intbl/\"\n",
    "        \n",
    "        #if not os.path.exists(temp_iter_directory):\n",
    "        #    os.mkdir(temp_iter_directory)\n",
    "            \n",
    "        try:\n",
    "            shutil.copytree(intbl_directory, temp_iter_intbl_directory, dirs_exist_ok=True)\n",
    "        except Exception as e:\n",
    "            print(f\"Error occurred: {e}\")\n",
    "            \n",
    "        TempBuilder.modify_and_save_ini(model_directory+\"/wflow_tofuflex.ini\", index, temp_iter_directory+\"/wflow_tofuflex_\"+str(index)+\".ini\")\n",
    "        TempBuilder.modify_and_save_ini(model_directory+\"/wflow_tofuflex_1km.ini\", index, temp_iter_directory+\"/wflow_tofuflex_1km_\"+str(index)+\".ini\")\n",
    "        TempBuilder.modify_and_save_ini(model_directory+\"/wflow_tofuflex_ns.ini\", index, temp_iter_directory+\"/wflow_tofuflex_ns_\"+str(index)+\".ini\")\n",
    "        TempBuilder.modify_and_save_ini(model_directory+\"/wflow_tofuflex_ns_1km.ini\", index, temp_iter_directory+\"/wflow_tofuflex_ns_1km_\"+str(index)+\".ini\")\n",
    "        TempBuilder.modify_and_save_ini(model_directory+\"/wflow_topoflex_bm.ini\", index, temp_iter_directory+\"/wflow_topoflex_bm_\"+str(index)+\".ini\")\n",
    "        TempBuilder.modify_and_save_ini(model_directory+\"/wflow_topoflex_bm_1km.ini\", index, temp_iter_directory+\"/wflow_topoflex_bm_1km_\"+str(index)+\".ini\")\n",
    "            \n",
    "        TempBuilder.modify_and_save_intbl(temp_iter_intbl_directory+\"/betaW\"+\".tbl\", row.iloc[0], temp_iter_intbl_directory+\"/betaW\"+\".tbl\")\n",
    "        TempBuilder.modify_and_save_intbl(temp_iter_intbl_directory+\"/betaAP\"+\".tbl\", row.iloc[0], temp_iter_intbl_directory+\"/betaAP\"+\".tbl\")\n",
    "        TempBuilder.modify_and_save_intbl(temp_iter_intbl_directory+\"/betaH\"+\".tbl\", row.iloc[1], temp_iter_intbl_directory+\"/betaH\"+\".tbl\")\n",
    "        TempBuilder.modify_and_save_intbl(temp_iter_intbl_directory+\"/betaP\"+\".tbl\", row.iloc[1], temp_iter_intbl_directory+\"/betaP\"+\".tbl\")\n",
    "        \n",
    "        TempBuilder.modify_and_save_intbl(temp_iter_intbl_directory+\"/DH\"+\".tbl\", row.iloc[2], temp_iter_intbl_directory+\"/DH\"+\".tbl\")\n",
    "        TempBuilder.modify_and_save_intbl(temp_iter_intbl_directory+\"/DP\"+\".tbl\", row.iloc[3], temp_iter_intbl_directory+\"/DP\"+\".tbl\")\n",
    "\n",
    "        # These three doesn't need to be separated by OG.\n",
    "        TempBuilder.modify_and_save_intbl(temp_iter_intbl_directory+\"/KfW\"+\".tbl\", row.iloc[4], temp_iter_intbl_directory+\"/KfW\"+\".tbl\")\n",
    "        TempBuilder.modify_and_save_intbl(temp_iter_intbl_directory+\"/KfW_OG\"+\".tbl\", row.iloc[4], temp_iter_intbl_directory+\"/KfW_OG\"+\".tbl\") # It is identical to KfW, but a place holder for topo_bm to make life easier\n",
    "        TempBuilder.modify_and_save_intbl(temp_iter_intbl_directory+\"/KfaP\"+\".tbl\", row.iloc[4], temp_iter_intbl_directory+\"/KfaP\"+\".tbl\")\n",
    "        TempBuilder.modify_and_save_intbl(temp_iter_intbl_directory+\"/Kfimp\"+\".tbl\", row.iloc[4], temp_iter_intbl_directory+\"/Kfimp\"+\".tbl\")\n",
    "\n",
    "        # KfP_OG.tbl and KfH_OG.tbl is used for topo_bm, but process_Kf_files() will adjust it to KfP and KfH that goes into tofu model.\n",
    "        TempBuilder.modify_and_save_intbl(temp_iter_intbl_directory+\"/KfP_OG\"+\".tbl\", row.iloc[5], temp_iter_intbl_directory+\"/KfP_OG\"+\".tbl\")\n",
    "        TempBuilder.modify_and_save_intbl(temp_iter_intbl_directory+\"/KfH_OG\"+\".tbl\", row.iloc[5], temp_iter_intbl_directory+\"/KfH_OG\"+\".tbl\")\n",
    "\n",
    "        TempBuilder.modify_and_save_intbl(temp_iter_intbl_directory+\"/sumaxW\"+\".tbl\", row.iloc[6], temp_iter_intbl_directory+\"/sumaxW\"+\".tbl\")\n",
    "        TempBuilder.modify_and_save_intbl(temp_iter_intbl_directory+\"/sumaxH\"+\".tbl\", row.iloc[7], temp_iter_intbl_directory+\"/sumaxH\"+\".tbl\")\n",
    "        TempBuilder.modify_and_save_intbl(temp_iter_intbl_directory+\"/sumaxP\"+\".tbl\", row.iloc[7], temp_iter_intbl_directory+\"/sumaxP\"+\".tbl\")\n",
    "        \n",
    "        TempBuilder.modify_and_save_intbl(temp_iter_intbl_directory+\"/KsW\"+\".tbl\", row.iloc[8], temp_iter_intbl_directory+\"/KsW\"+\".tbl\")\n",
    "        TempBuilder.modify_and_save_intbl(temp_iter_intbl_directory+\"/KsH\"+\".tbl\", row.iloc[8], temp_iter_intbl_directory+\"/KsH\"+\".tbl\")\n",
    "        TempBuilder.modify_and_save_intbl(temp_iter_intbl_directory+\"/KsP\"+\".tbl\", row.iloc[8], temp_iter_intbl_directory+\"/KsP\"+\".tbl\")\n",
    "        \n",
    "        TempBuilder.process_Kf_files(temp_iter_intbl_directory, identifiers, static_directory)\n",
    "    print()\n",
    "\n"
   ]
  },
  {
   "cell_type": "markdown",
   "id": "3ac770fb-e94f-44ec-a624-bcec6974fc40",
   "metadata": {},
   "source": [
    "# Just the ini files for quicker update"
   ]
  },
  {
   "cell_type": "code",
   "execution_count": 8,
   "id": "a692264f-32b8-4ab8-9a0a-227360d054e2",
   "metadata": {
    "tags": []
   },
   "outputs": [
    {
     "name": "stdout",
     "output_type": "stream",
     "text": [
      "D:\\wflow_models\\san-diego_california_20331196_11023340\\temp: processing just .ini files\n",
      "200 / 200    \n",
      "D:\\wflow_models\\fulton_georgia_2047963_02336410\\temp: processing just .ini files\n",
      "200 / 200    \n"
     ]
    }
   ],
   "source": [
    "for n in wsName_list:\n",
    "    static_directory = str(\"./wflow_models/\" + n + \"/staticmaps/\")\n",
    "    temp_directory = str(\"./wflow_models/\" + n + \"/temp/\")\n",
    "    print(str(os.path.abspath(temp_directory) +\": processing just .ini files\"))\n",
    "\n",
    "\n",
    "    for index, row in df.iterrows():\n",
    "        \n",
    "        print(f\"\\r{index + 1} / {len(df)}\", end='    ', flush=True)\n",
    "        temp_iter_directory = str(temp_directory+str(index))\n",
    "    \n",
    "        TempBuilder.modify_and_save_ini(model_directory+\"/wflow_tofuflex.ini\", index, temp_iter_directory+\"/wflow_tofuflex_\"+str(index)+\".ini\")\n",
    "        TempBuilder.modify_and_save_ini(model_directory+\"/wflow_tofuflex_1km.ini\", index, temp_iter_directory+\"/wflow_tofuflex_1km_\"+str(index)+\".ini\")\n",
    "        TempBuilder.modify_and_save_ini(model_directory+\"/wflow_tofuflex_ns.ini\", index, temp_iter_directory+\"/wflow_tofuflex_ns_\"+str(index)+\".ini\")\n",
    "        TempBuilder.modify_and_save_ini(model_directory+\"/wflow_tofuflex_ns_1km.ini\", index, temp_iter_directory+\"/wflow_tofuflex_ns_1km_\"+str(index)+\".ini\")\n",
    "        TempBuilder.modify_and_save_ini(model_directory+\"/wflow_topoflex_bm.ini\", index, temp_iter_directory+\"/wflow_topoflex_bm_\"+str(index)+\".ini\")\n",
    "        TempBuilder.modify_and_save_ini(model_directory+\"/wflow_topoflex_bm_1km.ini\", index, temp_iter_directory+\"/wflow_topoflex_bm_1km_\"+str(index)+\".ini\")\n",
    "        \n",
    "    print()"
   ]
  },
  {
   "cell_type": "code",
   "execution_count": null,
   "id": "9adc7fef-d78b-42c7-a2a2-7b372744b00d",
   "metadata": {},
   "outputs": [],
   "source": []
  }
 ],
 "metadata": {
  "kernelspec": {
   "display_name": "Python (wflow)",
   "language": "python",
   "name": "wflow"
  },
  "language_info": {
   "codemirror_mode": {
    "name": "ipython",
    "version": 3
   },
   "file_extension": ".py",
   "mimetype": "text/x-python",
   "name": "python",
   "nbconvert_exporter": "python",
   "pygments_lexer": "ipython3",
   "version": "3.12.3"
  }
 },
 "nbformat": 4,
 "nbformat_minor": 5
}
