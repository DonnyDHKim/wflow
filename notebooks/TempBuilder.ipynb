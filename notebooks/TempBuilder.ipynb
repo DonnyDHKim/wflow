{
 "cells": [
  {
   "cell_type": "markdown",
   "id": "6f5048fe-00c8-4732-9053-1358c1de4414",
   "metadata": {},
   "source": [
    "# Import Library"
   ]
  },
  {
   "cell_type": "code",
   "execution_count": 1,
   "id": "9cf5cf82-ecb0-4478-af35-707d22fcc428",
   "metadata": {
    "execution": {
     "iopub.execute_input": "2024-04-08T00:33:10.610753Z",
     "iopub.status.busy": "2024-04-08T00:33:10.610246Z",
     "iopub.status.idle": "2024-04-08T00:33:11.017958Z",
     "shell.execute_reply": "2024-04-08T00:33:11.016977Z",
     "shell.execute_reply.started": "2024-04-08T00:33:10.610732Z"
    },
    "tags": []
   },
   "outputs": [
    {
     "data": {
      "text/plain": [
       "'/mnt/c/Workspace/Ch3/wflow'"
      ]
     },
     "execution_count": 1,
     "metadata": {},
     "output_type": "execute_result"
    }
   ],
   "source": [
    "import os\n",
    "import csv\n",
    "import pandas as pd\n",
    "import shutil\n",
    "os.chdir('/mnt/c/Workspace/Ch3/wflow/')\n",
    "os.getcwd()"
   ]
  },
  {
   "cell_type": "markdown",
   "id": "d6655378-0c6d-464d-a4ec-8f95f13c8e34",
   "metadata": {
    "tags": []
   },
   "source": [
    "# Temp directory"
   ]
  },
  {
   "cell_type": "code",
   "execution_count": 2,
   "id": "8ddd93a1-cb5a-4d33-b95d-3719117ee456",
   "metadata": {
    "execution": {
     "iopub.execute_input": "2024-04-08T00:33:11.888263Z",
     "iopub.status.busy": "2024-04-08T00:33:11.887766Z",
     "iopub.status.idle": "2024-04-08T00:33:11.892980Z",
     "shell.execute_reply": "2024-04-08T00:33:11.891475Z",
     "shell.execute_reply.started": "2024-04-08T00:33:11.888241Z"
    },
    "tags": []
   },
   "outputs": [],
   "source": [
    "wsName_list = [\"stark_ohio_19389766_03118500\",\n",
    "          \"san-diego_california_20331196_11023340\",\n",
    "          \"bexar_texas_10836388_08181480\",\n",
    "          #\"douglas_georgia_3286256_02337000\",\n",
    "          \"fulton_georgia_2047963_02336410\"\n",
    "         ]\n",
    "\n",
    "# For test purpose, set wsName.\n",
    "wsName = \"fulton_georgia_2047963_02336410\"\n"
   ]
  },
  {
   "cell_type": "code",
   "execution_count": 25,
   "id": "1755271c-a4a1-4bff-9a19-3dee9d52b467",
   "metadata": {
    "execution": {
     "iopub.execute_input": "2024-04-08T06:49:00.851885Z",
     "iopub.status.busy": "2024-04-08T06:49:00.851034Z",
     "iopub.status.idle": "2024-04-08T06:49:00.856699Z",
     "shell.execute_reply": "2024-04-08T06:49:00.855727Z",
     "shell.execute_reply.started": "2024-04-08T06:49:00.851861Z"
    },
    "tags": []
   },
   "outputs": [],
   "source": [
    "model_directory = str(\"../wflow_models/\" + wsName + \"/\")\n",
    "intbl_directory = str(\"../wflow_models/\" + wsName + \"/intbl/\")\n",
    "static_directory = str(\"../wflow_models/\" +wsName + \"/staticmaps/\")\n",
    "temp_directory = str(\"../wflow_models/\" + wsName + \"/temp/\")\n",
    "csv_file_path = str(\"../wflow_models/combined_samples.csv\")\n",
    "if not os.path.exists(temp_directory):\n",
    "    os.mkdir(temp_directory)"
   ]
  },
  {
   "cell_type": "code",
   "execution_count": 38,
   "id": "584d2617-e28f-4e35-b78d-2f6b566082d3",
   "metadata": {
    "execution": {
     "iopub.execute_input": "2024-04-08T07:08:25.539315Z",
     "iopub.status.busy": "2024-04-08T07:08:25.538486Z",
     "iopub.status.idle": "2024-04-08T07:08:25.558555Z",
     "shell.execute_reply": "2024-04-08T07:08:25.557635Z",
     "shell.execute_reply.started": "2024-04-08T07:08:25.539289Z"
    },
    "tags": []
   },
   "outputs": [
    {
     "name": "stdout",
     "output_type": "stream",
     "text": [
      "    beta_W  beta_HP   D_H   D_P  Kf_fast  Kf_slow  Sumax_W  Sumax_HP\n",
      "0     2.99     3.16  0.04  0.04    0.048    0.001    142.0     253.0\n",
      "1     3.94     4.08  0.06  0.08    0.051    0.004     52.0      59.0\n",
      "2     1.94     2.13  0.08  0.09    0.043    0.003    202.0     223.0\n",
      "3     2.45     2.52  0.25  0.35    0.037    0.002     43.0      68.0\n",
      "4     4.05     4.28  0.45  0.47    0.049    0.004     82.0      95.0\n",
      "5     2.25     2.46  0.24  0.28    0.054    0.002    216.0     239.0\n",
      "6     4.51     4.73  0.15  0.22    0.051    0.001    171.0     319.0\n",
      "7     2.14     2.14  0.39  0.40    0.061    0.008     39.0      70.0\n",
      "8     4.78     4.79  0.16  0.19    0.039    0.003    210.0     413.0\n",
      "9     2.61     2.61  0.57  0.64    0.063    0.007    188.0     346.0\n",
      "10    1.41     1.53  0.47  0.58    0.069    0.002    209.0     219.0\n",
      "11    2.37     2.40  0.06  0.08    0.044    0.009    213.0     267.0\n",
      "12    3.38     3.40  0.37  0.44    0.042    0.009     49.0      57.0\n",
      "13    2.47     2.57  0.03  0.03    0.076    0.010    227.0     249.0\n",
      "14    1.49     1.49  0.29  0.36    0.065    0.006    113.0     132.0\n",
      "15    1.10     1.13  0.18  0.24    0.014    0.006    148.0     200.0\n",
      "16    0.23     0.24  0.44  0.51    0.050    0.001    103.0     108.0\n",
      "17    1.82     1.83  0.36  0.46    0.022    0.006    232.0     270.0\n",
      "18    3.30     3.42  0.07  0.09    0.047    0.008    199.0     250.0\n",
      "19    4.91     4.94  0.38  0.42    0.048    0.006      9.0      10.0\n"
     ]
    }
   ],
   "source": [
    "df = pd.read_csv(csv_file_path)[0:20]\n",
    "print(df)"
   ]
  },
  {
   "cell_type": "markdown",
   "id": "cfbc7469-885f-4661-a6d2-45b47f16bbf7",
   "metadata": {},
   "source": [
    "# Define some functions"
   ]
  },
  {
   "cell_type": "code",
   "execution_count": 22,
   "id": "94536d1a-9cac-43ef-adec-b86318f8e9e7",
   "metadata": {
    "execution": {
     "iopub.execute_input": "2024-04-08T06:47:14.642605Z",
     "iopub.status.busy": "2024-04-08T06:47:14.641966Z",
     "iopub.status.idle": "2024-04-08T06:47:14.647940Z",
     "shell.execute_reply": "2024-04-08T06:47:14.646942Z",
     "shell.execute_reply.started": "2024-04-08T06:47:14.642581Z"
    },
    "tags": []
   },
   "outputs": [],
   "source": [
    "import re\n",
    "\n",
    "def modify_and_save_intbl(file_path, new_number, new_file_path):\n",
    "    # Read the existing text\n",
    "    with open(file_path, 'r', encoding='utf-8') as file:\n",
    "        existing_text = file.read()\n",
    "    \n",
    "    # Use regular expression to find and replace the last number in the given pattern\n",
    "    pattern = r'(\\[0,> \\[0,> \\[0,> )\\d+\\.?\\d*'\n",
    "    replacement = r'\\g<1>' + str(new_number)  # Convert new_number to string if not already\n",
    "    modified_text = re.sub(pattern, replacement, existing_text)\n",
    "    \n",
    "    # Save the modified text to the new file path\n",
    "    with open(new_file_path, 'w', encoding='utf-8') as new_file:\n",
    "        new_file.write(modified_text)"
   ]
  },
  {
   "cell_type": "code",
   "execution_count": 21,
   "id": "7d60283a-7222-4550-ae46-b0d3d731499f",
   "metadata": {
    "execution": {
     "iopub.execute_input": "2024-04-08T06:47:12.842681Z",
     "iopub.status.busy": "2024-04-08T06:47:12.842024Z",
     "iopub.status.idle": "2024-04-08T06:47:12.850105Z",
     "shell.execute_reply": "2024-04-08T06:47:12.848708Z",
     "shell.execute_reply.started": "2024-04-08T06:47:12.842656Z"
    },
    "tags": []
   },
   "outputs": [],
   "source": [
    "import pcraster as pcr\n",
    "import numpy as np\n",
    "\n",
    "def process_Kf_files(directory, identifiers, static_directory):\n",
    "    \"\"\"\n",
    "    Process files in the specified directory with the given identifiers.\n",
    "    \n",
    "    Parameters:\n",
    "    - directory: The path to the directory containing the files.\n",
    "    - identifiers: A list of identifiers for the files to be processed.\n",
    "    \"\"\"\n",
    "    TIA =  pcr.readmap(static_directory + \"/TIA.map\")\n",
    "\n",
    "\n",
    "    for i in identifiers:          \n",
    "        percent = pcr.readmap(static_directory + \"/wflow_percent\" + i + \".map\")\n",
    "        catchment = pcr.readmap(static_directory + \"/wflow_ws.map\")\n",
    "\n",
    "        TIA_stat = pcr.areaaverage(TIA * percent, catchment)\n",
    "        TIA_stat2 = pcr.pcr2numpy(TIA_stat, mv=np.nan)\n",
    "        TIA_stat3 = np.nanmean(TIA_stat2)\n",
    "        \n",
    "        #print(str(\"Average TIA for \" + i + \" :\"+ str(TIA_stat3)))\n",
    "        \n",
    "        if i == \"W\":\n",
    "            #print(\"For W, not performing Kf modification\")\n",
    "            continue\n",
    "                        \n",
    "        # Construct the original and new file names\n",
    "        original_file_name = f\"Kf{i}_OG.tbl\"\n",
    "        new_file_name = f\"Kf{i}.tbl\"\n",
    "        \n",
    "        # Path to the original and new files\n",
    "        original_file_path = os.path.join(directory, original_file_name)\n",
    "        new_file_path = os.path.join(directory, new_file_name)\n",
    "        \n",
    "        # Open the original file\n",
    "        with open(original_file_path, 'r') as file:\n",
    "            # Read the line\n",
    "            line = file.readline().strip()\n",
    "            # Extract the last number\n",
    "            parts = line.split(' ')\n",
    "            last_number = float(parts[-1])\n",
    "            \n",
    "            # Perform the calculation\n",
    "            new_number = round(last_number * (1 + 0.02/2 * TIA_stat3 * 100), 4)\n",
    "            #new_number = last_number\n",
    "            \n",
    "            # Prepare the new line with the calculated number\n",
    "            new_line = line.rsplit(' ', 1)[0] + f' {new_number}'\n",
    "        \n",
    "        # Write the new line to the new file\n",
    "        with open(new_file_path, 'w') as file:\n",
    "            file.write(new_line)\n"
   ]
  },
  {
   "cell_type": "code",
   "execution_count": 31,
   "id": "6e7eef0a-bc1e-41c4-90c8-d340bb1b6361",
   "metadata": {
    "execution": {
     "iopub.execute_input": "2024-04-08T06:56:23.953783Z",
     "iopub.status.busy": "2024-04-08T06:56:23.953251Z",
     "iopub.status.idle": "2024-04-08T06:56:23.958982Z",
     "shell.execute_reply": "2024-04-08T06:56:23.957948Z",
     "shell.execute_reply.started": "2024-04-08T06:56:23.953761Z"
    },
    "tags": []
   },
   "outputs": [],
   "source": [
    "def modify_and_save_ini(file_path, index, new_file_path):\n",
    "    # Read the existing content from the file\n",
    "    with open(file_path, 'r', encoding='utf-8') as file:\n",
    "        lines = file.readlines()\n",
    "    \n",
    "    # Modify lines containing 'intbl'\n",
    "    modified_lines = []\n",
    "    for line in lines:\n",
    "        if 'intbl' in line:\n",
    "            modified_line = f'intbl = temp/{index}/intbl\\n'\n",
    "            modified_lines.append(modified_line)\n",
    "        else:\n",
    "            modified_lines.append(line)\n",
    "    \n",
    "    # Save the modified content to a new file\n",
    "    with open(new_file_path, 'w', encoding='utf-8') as new_file:\n",
    "        new_file.writelines(modified_lines)"
   ]
  },
  {
   "cell_type": "markdown",
   "id": "4b9c6fcd-c025-4b35-be9f-d51d7a7abe7f",
   "metadata": {},
   "source": [
    "# Loop"
   ]
  },
  {
   "cell_type": "code",
   "execution_count": 40,
   "id": "c6db1378-e1ae-48a5-ae4e-06991f6ee060",
   "metadata": {
    "execution": {
     "iopub.execute_input": "2024-04-08T07:19:46.879033Z",
     "iopub.status.busy": "2024-04-08T07:19:46.878462Z",
     "iopub.status.idle": "2024-04-08T07:19:46.884135Z",
     "shell.execute_reply": "2024-04-08T07:19:46.882982Z",
     "shell.execute_reply.started": "2024-04-08T07:19:46.879006Z"
    },
    "tags": []
   },
   "outputs": [
    {
     "name": "stdout",
     "output_type": "stream",
     "text": [
      "<generator object DataFrame.iterrows at 0x7fd7e9047ca0>\n"
     ]
    }
   ],
   "source": [
    "print(df.iterrows())"
   ]
  },
  {
   "cell_type": "code",
   "execution_count": 37,
   "id": "61402785-7b24-463a-983f-bbec8913f271",
   "metadata": {
    "execution": {
     "iopub.execute_input": "2024-04-08T07:01:17.662683Z",
     "iopub.status.busy": "2024-04-08T07:01:17.662343Z",
     "iopub.status.idle": "2024-04-08T07:01:36.335173Z",
     "shell.execute_reply": "2024-04-08T07:01:36.334068Z",
     "shell.execute_reply.started": "2024-04-08T07:01:17.662661Z"
    },
    "tags": []
   },
   "outputs": [
    {
     "name": "stdout",
     "output_type": "stream",
     "text": [
      "20 / 20    \n"
     ]
    }
   ],
   "source": [
    "identifiers = ['W', 'H', 'P']\n",
    "\n",
    "for index, row in df.iterrows():\n",
    "    \n",
    "    print(f\"\\r{index + 1} / {len(df)}\", end='    ', flush=True)\n",
    "    temp_iter_directory = str(temp_directory+str(index))\n",
    "    temp_iter_intbl_directory = temp_iter_directory + \"/intbl/\"\n",
    "    \n",
    "    #if not os.path.exists(temp_iter_directory):\n",
    "    #    os.mkdir(temp_iter_directory)\n",
    "        \n",
    "    try:\n",
    "        shutil.copytree(intbl_directory, temp_iter_intbl_directory, dirs_exist_ok=True)\n",
    "    except Exception as e:\n",
    "        print(f\"Error occurred: {e}\")\n",
    "        \n",
    "    modify_and_save_ini(model_directory+\"/wflow_tofuflex.ini\", index, temp_iter_directory+\"/wflow_tofuflex_\"+str(index)+\".ini\")\n",
    "        \n",
    "    modify_and_save_intbl(temp_iter_intbl_directory+\"/betaW\"+\".tbl\", row[0], temp_iter_intbl_directory+\"/betaW\"+\".tbl\")\n",
    "    modify_and_save_intbl(temp_iter_intbl_directory+\"/betaAP\"+\".tbl\", row[0], temp_iter_intbl_directory+\"/betaAP\"+\".tbl\")\n",
    "    \n",
    "    modify_and_save_intbl(temp_iter_intbl_directory+\"/betaH\"+\".tbl\", row[1], temp_iter_intbl_directory+\"/betaH\"+\".tbl\")\n",
    "    modify_and_save_intbl(temp_iter_intbl_directory+\"/betaP\"+\".tbl\", row[1], temp_iter_intbl_directory+\"/betaP\"+\".tbl\")\n",
    "    \n",
    "    modify_and_save_intbl(temp_iter_intbl_directory+\"/DH\"+\".tbl\", row[2], temp_iter_intbl_directory+\"/DH\"+\".tbl\")\n",
    "    modify_and_save_intbl(temp_iter_intbl_directory+\"/DP\"+\".tbl\", row[3], temp_iter_intbl_directory+\"/DP\"+\".tbl\")\n",
    "    \n",
    "    modify_and_save_intbl(temp_iter_intbl_directory+\"/KfW_OG\"+\".tbl\", row[4], temp_iter_intbl_directory+\"/KfW_OG\"+\".tbl\")\n",
    "    modify_and_save_intbl(temp_iter_intbl_directory+\"/KfaP_OG\"+\".tbl\", row[4], temp_iter_intbl_directory+\"/KfaP_OG\"+\".tbl\")\n",
    "    modify_and_save_intbl(temp_iter_intbl_directory+\"/Kfimp_OG\"+\".tbl\", row[4], temp_iter_intbl_directory+\"/Kfimp_OG\"+\".tbl\")\n",
    "    \n",
    "    modify_and_save_intbl(temp_iter_intbl_directory+\"/KfP_OG\"+\".tbl\", row[5], temp_iter_intbl_directory+\"/KfP_OG\"+\".tbl\")\n",
    "    modify_and_save_intbl(temp_iter_intbl_directory+\"/KfH_OG\"+\".tbl\", row[5], temp_iter_intbl_directory+\"/KfH_OG\"+\".tbl\")\n",
    "\n",
    "    modify_and_save_intbl(temp_iter_intbl_directory+\"/sumaxW\"+\".tbl\", row[6], temp_iter_intbl_directory+\"/sumaxW\"+\".tbl\")\n",
    "    modify_and_save_intbl(temp_iter_intbl_directory+\"/sumaxH\"+\".tbl\", row[7], temp_iter_intbl_directory+\"/sumaxH\"+\".tbl\")\n",
    "    modify_and_save_intbl(temp_iter_intbl_directory+\"/sumaxP\"+\".tbl\", row[7], temp_iter_intbl_directory+\"/sumaxP\"+\".tbl\")\n",
    "    \n",
    "    process_Kf_files(temp_iter_intbl_directory, identifiers, static_directory)\n",
    "\n",
    "print()"
   ]
  }
 ],
 "metadata": {
  "kernelspec": {
   "display_name": "Python [conda env:wflow]",
   "language": "python",
   "name": "conda-env-wflow-py"
  },
  "language_info": {
   "codemirror_mode": {
    "name": "ipython",
    "version": 3
   },
   "file_extension": ".py",
   "mimetype": "text/x-python",
   "name": "python",
   "nbconvert_exporter": "python",
   "pygments_lexer": "ipython3",
   "version": "3.10.9"
  }
 },
 "nbformat": 4,
 "nbformat_minor": 5
}
