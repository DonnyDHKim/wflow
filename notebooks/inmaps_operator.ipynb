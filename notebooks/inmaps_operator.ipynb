{
 "cells": [
  {
   "cell_type": "code",
   "execution_count": 2,
   "id": "609557cb-6358-4045-939d-848711887e40",
   "metadata": {
    "execution": {
     "iopub.execute_input": "2024-03-14T02:53:56.663861Z",
     "iopub.status.busy": "2024-03-14T02:53:56.663328Z",
     "iopub.status.idle": "2024-03-14T02:53:56.669689Z",
     "shell.execute_reply": "2024-03-14T02:53:56.668604Z",
     "shell.execute_reply.started": "2024-03-14T02:53:56.663836Z"
    },
    "tags": []
   },
   "outputs": [],
   "source": [
    "import shutil\n",
    "\n",
    "def copy_files(source_prefix, num_files, num_copies):\n",
    "    for i in range(1, num_copies + 1):\n",
    "        for j in range(1, num_files + 1):\n",
    "            source_file = f\"{source_prefix:08}.{j:03d}\"\n",
    "            dest_file = f\"{source_prefix:08}.{j + 20 * i:03d}\"\n",
    "            shutil.copyfile(source_file, dest_file)\n",
    "            print(f\"Copied {source_file} to {dest_file}\")"
   ]
  },
  {
   "cell_type": "code",
   "execution_count": null,
   "id": "21c38e82-be60-47e3-89dc-1b45caf81ee5",
   "metadata": {
    "execution": {
     "iopub.execute_input": "2024-03-12T06:06:09.436999Z",
     "iopub.status.busy": "2024-03-12T06:06:09.436392Z",
     "iopub.status.idle": "2024-03-12T06:06:15.628585Z",
     "shell.execute_reply": "2024-03-12T06:06:15.627467Z",
     "shell.execute_reply.started": "2024-03-12T06:06:09.436979Z"
    },
    "tags": []
   },
   "outputs": [],
   "source": [
    "os.chdir('/mnt/c/Github/wflow/examples/wflow_maas_topoflex/inmaps')\n",
    "\n",
    "\n",
    "# Define parameters\n",
    "file_prefixes = [\"P\", \"PET\", \"TEMP\"]\n",
    "num_files = 20\n",
    "num_copies = 10  # Change this value according to your requirement\n",
    "\n",
    "# Copy files for each prefix\n",
    "for prefix in file_prefixes:\n",
    "    copy_files(prefix, num_files, num_copies)\n",
    "    \n",
    "os.chdir('/mnt/c/Github/wflow/')\n",
    "os.getcwd()"
   ]
  },
  {
   "cell_type": "code",
   "execution_count": 5,
   "id": "accb7070-dcb0-41c1-b9aa-55edf188cf23",
   "metadata": {
    "execution": {
     "iopub.execute_input": "2024-03-15T05:43:57.349123Z",
     "iopub.status.busy": "2024-03-15T05:43:57.348541Z",
     "iopub.status.idle": "2024-03-15T05:43:57.355406Z",
     "shell.execute_reply": "2024-03-15T05:43:57.353842Z",
     "shell.execute_reply.started": "2024-03-15T05:43:57.349103Z"
    },
    "tags": []
   },
   "outputs": [
    {
     "data": {
      "text/plain": [
       "'/mnt/c/Github/wflow'"
      ]
     },
     "execution_count": 5,
     "metadata": {},
     "output_type": "execute_result"
    }
   ],
   "source": [
    "import os\n",
    "import shutil\n",
    "\n",
    "os.chdir('/mnt/c/Github/wflow/')\n",
    "os.getcwd()"
   ]
  },
  {
   "cell_type": "code",
   "execution_count": 9,
   "id": "164fc1aa-fdb2-4bd1-ac6c-a6b8fee7ae6e",
   "metadata": {
    "execution": {
     "iopub.execute_input": "2024-03-15T05:47:26.443531Z",
     "iopub.status.busy": "2024-03-15T05:47:26.442738Z",
     "iopub.status.idle": "2024-03-15T05:47:32.707763Z",
     "shell.execute_reply": "2024-03-15T05:47:32.706868Z",
     "shell.execute_reply.started": "2024-03-15T05:47:26.443510Z"
    },
    "tags": []
   },
   "outputs": [],
   "source": [
    "# Directory containing the files\n",
    "in_directory = '/mnt/c/Github/wflow/examples/wflow_maas_topoflex/inmaps_ts'\n",
    "out_directory = '/mnt/c/Github/wflow/examples/wflow_maas_topoflex/inmaps_datetime'\n",
    "\n",
    "if not os.path.exists(out_directory):\n",
    "    os.makedirs(out_directory)\n",
    "\n",
    "# Iterate through each file in the directory\n",
    "for filename in os.listdir(in_directory):\n",
    "    if filename.startswith(\"P\") or filename.startswith(\"PET\"):\n",
    "        # Extract the timestep from the filename\n",
    "        timestep = int(filename.split('.')[1])\n",
    "\n",
    "        # Calculate the date and hour\n",
    "        year = 2011\n",
    "        month = 9\n",
    "        day = 1\n",
    "        hour = timestep % 24  # Wrap around the hour to 0-23 range\n",
    "\n",
    "        # If timestep is not in the range of 0-23, adjust the date\n",
    "        if timestep >= 24:\n",
    "            day += timestep // 24  # Update the day\n",
    "\n",
    "        # Format the new filename\n",
    "        new_filename = f\"{filename.split('.')[0]}_{year}{month:02d}{day:02d}{hour:02d}\"\n",
    "\n",
    "        # Copy the file\n",
    "        shutil.copyfile(os.path.join(in_directory, filename), os.path.join(out_directory, new_filename))"
   ]
  },
  {
   "cell_type": "code",
   "execution_count": 34,
   "id": "6541f962-1dc4-4874-abef-97f6b2927ccd",
   "metadata": {
    "execution": {
     "iopub.execute_input": "2024-03-15T06:21:24.412922Z",
     "iopub.status.busy": "2024-03-15T06:21:24.412434Z",
     "iopub.status.idle": "2024-03-15T06:21:24.419847Z",
     "shell.execute_reply": "2024-03-15T06:21:24.418286Z",
     "shell.execute_reply.started": "2024-03-15T06:21:24.412903Z"
    },
    "tags": []
   },
   "outputs": [
    {
     "name": "stdout",
     "output_type": "stream",
     "text": [
      "200\n"
     ]
    }
   ],
   "source": [
    "import datetime\n",
    "\n",
    "datetimestart = datetime.datetime(2011, 9, 1)\n",
    "\n",
    "firstTimestep = 1\n",
    "lastTimeStep =  200\n",
    "\n",
    "#firstTimestep = datetime.datetime(2011, 9, 1)\n",
    "#lastTimeStep =  datetime.datetime(2011, 9, 9)\n",
    "\n",
    "timestepsecs = 3600\n",
    "\n",
    "print(lastTimeStep)\n",
    "#datetime.timedelta(datetime.seconds=(lastTimeStep - firstTimestep) * timestepsecs)\n"
   ]
  },
  {
   "cell_type": "code",
   "execution_count": 55,
   "id": "27475f2c-e116-4cd0-aff5-cc182ccc26e9",
   "metadata": {
    "execution": {
     "iopub.execute_input": "2024-03-15T21:30:01.336286Z",
     "iopub.status.busy": "2024-03-15T21:30:01.335879Z",
     "iopub.status.idle": "2024-03-15T21:30:01.341906Z",
     "shell.execute_reply": "2024-03-15T21:30:01.341062Z",
     "shell.execute_reply.started": "2024-03-15T21:30:01.336268Z"
    },
    "tags": []
   },
   "outputs": [
    {
     "name": "stdout",
     "output_type": "stream",
     "text": [
      "716400  and  2011-09-09 07:00:00\n"
     ]
    }
   ],
   "source": [
    "if isinstance(lastTimeStep, datetime.datetime) and isinstance(firstTimestep, datetime.datetime):\n",
    "    # If both lastTimeStep and firstTimestep are datetime objects\n",
    "    time_difference_seconds = (lastTimeStep - firstTimestep).total_seconds()\n",
    "else:\n",
    "    # If either lastTimeStep or firstTimestep is an integer\n",
    "    time_difference_seconds = (lastTimeStep - firstTimestep) * timestepsecs\n",
    "\n",
    "# Calculate the new datetime\n",
    "dte = datetimestart + datetime.timedelta(seconds=time_difference_seconds)\n",
    "print(time_difference_seconds, \" and \", dte)"
   ]
  },
  {
   "cell_type": "code",
   "execution_count": 37,
   "id": "6ae7d74b-760b-433a-87f2-aaba7b908ca2",
   "metadata": {
    "execution": {
     "iopub.execute_input": "2024-03-15T06:28:00.232162Z",
     "iopub.status.busy": "2024-03-15T06:28:00.231292Z",
     "iopub.status.idle": "2024-03-15T06:28:00.237837Z",
     "shell.execute_reply": "2024-03-15T06:28:00.236533Z",
     "shell.execute_reply.started": "2024-03-15T06:28:00.232133Z"
    },
    "tags": []
   },
   "outputs": [
    {
     "name": "stdout",
     "output_type": "stream",
     "text": [
      "2011-09-09 07:00:00\n"
     ]
    }
   ],
   "source": [
    "dte = datetimestart + datetime.timedelta(seconds=(lastTimeStep - firstTimestep) * timestepsecs)\n",
    "print(dte)"
   ]
  },
  {
   "cell_type": "code",
   "execution_count": 11,
   "id": "25690b20-efa5-4b93-ae32-94bc13808594",
   "metadata": {
    "execution": {
     "iopub.execute_input": "2024-03-15T23:05:32.800469Z",
     "iopub.status.busy": "2024-03-15T23:05:32.799802Z",
     "iopub.status.idle": "2024-03-15T23:05:32.822541Z",
     "shell.execute_reply": "2024-03-15T23:05:32.821447Z",
     "shell.execute_reply.started": "2024-03-15T23:05:32.800438Z"
    },
    "tags": []
   },
   "outputs": [
    {
     "name": "stdout",
     "output_type": "stream",
     "text": [
      "{'runStartTime': datetime.datetime(2010, 10, 1, 0, 0), 'runEndTime': datetime.datetime(2010, 10, 1, 23, 0), 'timeStepSecs': 3600, 'currentTimeStep': 0, 'lastTimeStep': 23.0, 'startadjusted': 0, 'startendadjusted': 0, 'currentmode': 'mode', 'callstopupdate': 0, 'runStateTime': datetime.datetime(2010, 10, 1, 0, 0), 'setByBMI': False, 'currentDateTime': datetime.datetime(2010, 10, 1, 0, 0), 'outPutStartTime': datetime.datetime(2010, 10, 1, 1, 0), 'runTimeSteps': 23.0, 'currentMonth': 10, 'currentYday': 274, 'currentHour': 0, 'nextDateTime': datetime.datetime(2010, 10, 1, 1, 0)}\n"
     ]
    },
    {
     "ename": "TypeError",
     "evalue": "runDateTimeInfo.update() got an unexpected keyword argument 'runStartTime'",
     "output_type": "error",
     "traceback": [
      "\u001b[0;31m---------------------------------------------------------------------------\u001b[0m",
      "\u001b[0;31mTypeError\u001b[0m                                 Traceback (most recent call last)",
      "Cell \u001b[0;32mIn[11], line 12\u001b[0m\n\u001b[1;32m      5\u001b[0m x \u001b[38;5;241m=\u001b[39m runDateTimeInfo(datetimestart\u001b[38;5;241m=\u001b[39mdt\u001b[38;5;241m.\u001b[39mdatetime(\u001b[38;5;241m2010\u001b[39m, \u001b[38;5;241m10\u001b[39m, \u001b[38;5;241m1\u001b[39m, \u001b[38;5;241m0\u001b[39m),\n\u001b[1;32m      6\u001b[0m         datetimeend\u001b[38;5;241m=\u001b[39mdt\u001b[38;5;241m.\u001b[39mdatetime(\u001b[38;5;241m2010\u001b[39m, \u001b[38;5;241m10\u001b[39m, \u001b[38;5;241m1\u001b[39m, \u001b[38;5;241m23\u001b[39m),\n\u001b[1;32m      7\u001b[0m         timestepsecs\u001b[38;5;241m=\u001b[39m\u001b[38;5;241m3600\u001b[39m,\n\u001b[1;32m      8\u001b[0m         mode\u001b[38;5;241m=\u001b[39m\u001b[38;5;124m\"\u001b[39m\u001b[38;5;124mmode\u001b[39m\u001b[38;5;124m\"\u001b[39m,\n\u001b[1;32m      9\u001b[0m         currentTimeStep\u001b[38;5;241m=\u001b[39m\u001b[38;5;241m1\u001b[39m)\n\u001b[1;32m     11\u001b[0m \u001b[38;5;28mprint\u001b[39m(x)\n\u001b[0;32m---> 12\u001b[0m \u001b[43mx\u001b[49m\u001b[38;5;241;43m.\u001b[39;49m\u001b[43mupdate\u001b[49m\u001b[43m(\u001b[49m\u001b[43mrunStartTime\u001b[49m\u001b[38;5;241;43m=\u001b[39;49m\u001b[43mdatetime\u001b[49m\u001b[38;5;241;43m.\u001b[39;49m\u001b[43mdatetime\u001b[49m\u001b[43m(\u001b[49m\u001b[38;5;241;43m2010\u001b[39;49m\u001b[43m,\u001b[49m\u001b[43m \u001b[49m\u001b[38;5;241;43m10\u001b[39;49m\u001b[43m,\u001b[49m\u001b[43m \u001b[49m\u001b[38;5;241;43m1\u001b[39;49m\u001b[43m,\u001b[49m\u001b[43m \u001b[49m\u001b[38;5;241;43m0\u001b[39;49m\u001b[43m,\u001b[49m\u001b[43m \u001b[49m\u001b[38;5;241;43m1\u001b[39;49m\u001b[43m)\u001b[49m\u001b[43m)\u001b[49m\n\u001b[1;32m     13\u001b[0m x\u001b[38;5;241m.\u001b[39mupdate(currentTimeStep\u001b[38;5;241m=\u001b[39m\u001b[38;5;241m0\u001b[39m)\n\u001b[1;32m     14\u001b[0m \u001b[38;5;28mprint\u001b[39m(x)\n",
      "\u001b[0;31mTypeError\u001b[0m: runDateTimeInfo.update() got an unexpected keyword argument 'runStartTime'"
     ]
    }
   ],
   "source": [
    "import datetime\n",
    "datetimestart=datetime.datetime(2010, 1, 1, 0),\n",
    "datetimeend= datetime.datetime(1990, 1, 5, 23),\n",
    "\n",
    "x = runDateTimeInfo(datetimestart=dt.datetime(2010, 10, 1, 0),\n",
    "        datetimeend=dt.datetime(2010, 10, 1, 23),\n",
    "        timestepsecs=3600,\n",
    "        mode=\"mode\",\n",
    "        currentTimeStep=1)\n",
    "\n",
    "print(x)\n",
    "x.update(runStartTime=datetime.datetime(2010, 10, 1, 0, 1))\n",
    "x.update(currentTimeStep=0)\n",
    "print(x)"
   ]
  },
  {
   "cell_type": "code",
   "execution_count": 4,
   "id": "a852210c-9695-4904-8ac7-190f7a823b60",
   "metadata": {
    "execution": {
     "iopub.execute_input": "2024-03-15T23:01:48.762766Z",
     "iopub.status.busy": "2024-03-15T23:01:48.762258Z",
     "iopub.status.idle": "2024-03-15T23:01:48.780892Z",
     "shell.execute_reply": "2024-03-15T23:01:48.779837Z",
     "shell.execute_reply.started": "2024-03-15T23:01:48.762728Z"
    },
    "tags": []
   },
   "outputs": [],
   "source": [
    "import datetime\n",
    "import calendar\n",
    "\n",
    "class runDateTimeInfo:\n",
    "    \"\"\"\n",
    "    class to maintain and retrieve date/time info of the model run.  IN order to support\n",
    "    difefrent views on date/time the class supports both a step (each input time is timestep) and\n",
    "    an interval base method (each model timestep is the interval between two input timesteps)\n",
    "\n",
    "    \"\"\"\n",
    "\n",
    "    def __init__(\n",
    "        self,\n",
    "        datetimestart=dt.datetime(1990, 1, 1),\n",
    "        datetimeend=dt.datetime(1990, 1, 5),\n",
    "        timestepsecs=86400,\n",
    "        mode=\"steps\",\n",
    "        currentTimeStep = 0\n",
    "\n",
    "    ):\n",
    "        self.runStartTime = datetimestart\n",
    "        self.runEndTime = datetimeend\n",
    "        self.timeStepSecs = timestepsecs\n",
    "        self.currentTimeStep = 0\n",
    "        self.lastTimeStep = 0\n",
    "        self.startadjusted = 0\n",
    "        self.startendadjusted = 0\n",
    "        self.currentmode = mode\n",
    "        self.callstopupdate = 0\n",
    "\n",
    "        if mode == \"steps\":\n",
    "            self.runStateTime = self.runStartTime - datetime.timedelta(\n",
    "                seconds=self.timeStepSecs\n",
    "            )\n",
    "        else:\n",
    "            self.runStateTime = self.runStartTime\n",
    "\n",
    "        self.setByBMI = False\n",
    "        self.currentDateTime = self.runStateTime\n",
    "        self.outPutStartTime = self.runStateTime + datetime.timedelta(\n",
    "            seconds=self.timeStepSecs\n",
    "        )\n",
    "        self.runTimeSteps = (\n",
    "            calendar.timegm(self.runEndTime.utctimetuple())\n",
    "            - calendar.timegm(self.runStateTime.utctimetuple())\n",
    "        ) / self.timeStepSecs\n",
    "        self.currentMonth = self.currentDateTime.month\n",
    "        self.currentYday = self.currentDateTime.timetuple().tm_yday\n",
    "        self.currentHour = self.currentDateTime.hour\n",
    "        self.nextDateTime = self.currentDateTime + datetime.timedelta(\n",
    "            seconds=self.timeStepSecs\n",
    "        )\n",
    "        self.lastTimeStep = self.runTimeSteps + self.currentTimeStep\n",
    "\n",
    "    def __str__(self):\n",
    "        a = self.__dict__\n",
    "\n",
    "        return str(a)\n",
    "\n",
    "    def update(\n",
    "        self,\n",
    "        timestepsecs=None,\n",
    "        datetimestart=None,\n",
    "        datetimeend=None,\n",
    "        currentTimeStep=None,\n",
    "        currentDatetime=None,\n",
    "        runTimeSteps=None,\n",
    "        mode=\"steps\",\n",
    "        incrementStep=False,\n",
    "        setByBMI=False,\n",
    "    ):\n",
    "        \"\"\"\n",
    "        Updates the content of the framework date/time object. Use only one input parameter per call. or runTimeSteps and datatimestart at the same time\n",
    "        use the mode option to switch between steps and intervals ('steps' or 'intervals')\n",
    "\n",
    "        :param timestepsecs:\n",
    "        :param datetimestart: data time start of the input data\n",
    "        :param datetimeend:\n",
    "        :param currentTimeStep:\n",
    "        :param currentDatetime:\n",
    "        :return:\n",
    "        \"\"\"\n",
    "        self.currentmode = mode\n",
    "        self.callstopupdate = self.callstopupdate + 1\n",
    "\n",
    "        if setByBMI:\n",
    "            self.setByBMI = True\n",
    "        if timestepsecs and not runTimeSteps:\n",
    "            self.timeStepSecs = timestepsecs\n",
    "            self.runTimeSteps = (\n",
    "                calendar.timegm(self.runEndTime.utctimetuple())\n",
    "                - calendar.timegm(self.runStateTime.utctimetuple())\n",
    "            ) / self.timeStepSecs\n",
    "\n",
    "            if self.currentmode == \"steps\":\n",
    "                self.runStateTime = self.runStartTime - datetime.timedelta(\n",
    "                    seconds=self.timeStepSecs\n",
    "                )\n",
    "\n",
    "            self.outPutStartTime = self.runStateTime + datetime.timedelta(\n",
    "                seconds=self.timeStepSecs\n",
    "            )\n",
    "        elif timestepsecs and runTimeSteps:\n",
    "            self.timeStepSecs = timestepsecs\n",
    "            self.runTimeSteps = runTimeSteps\n",
    "\n",
    "        if datetimestart:\n",
    "            self.currentTimeStep = 1\n",
    "\n",
    "            # if self.startadjusted\n",
    "            if self.currentmode == \"steps\":\n",
    "                self.runStartTime = datetimestart\n",
    "                self.startadjusted = 0\n",
    "                self.runStateTime = self.runStartTime - datetime.timedelta(\n",
    "                    seconds=self.timeStepSecs\n",
    "                )\n",
    "            else:\n",
    "                # self.runStartTime = datetimestart + datetime.timedelta(seconds=self.timeStepSecs)\n",
    "                self.runStartTime = (\n",
    "                    datetimestart\n",
    "                )  # + datetime.timedelta(seconds=self.timeStepSecs)\n",
    "                self.startadjusted = 1\n",
    "                self.runStateTime = (\n",
    "                    self.runStartTime\n",
    "                )  # - datetime.timedelta(seconds=self.timeStepSecs)\n",
    "\n",
    "            self.currentDateTime = self.runStateTime\n",
    "            self.outPutStartTime = self.currentDateTime + datetime.timedelta(\n",
    "                seconds=self.timeStepSecs\n",
    "            )\n",
    "            self.runTimeSteps = (\n",
    "                calendar.timegm(self.runEndTime.utctimetuple())\n",
    "                - calendar.timegm(self.runStateTime.utctimetuple())\n",
    "            ) / self.timeStepSecs\n",
    "\n",
    "            if self.runTimeSteps < 1:  # End time before start time\n",
    "                self.runTimeSteps = 1\n",
    "                self.runEndTime = self.runStateTime + datetime.timedelta(\n",
    "                    seconds=self.timeStepSecs * self.runTimeSteps\n",
    "                )\n",
    "\n",
    "        if datetimestart and runTimeSteps:\n",
    "\n",
    "            self.currentTimeStep = 1\n",
    "            self.currentDateTime = self.runStartTime\n",
    "            if self.currentmode == \"steps\":\n",
    "                self.runStartTime = datetimestart\n",
    "                self.startadjusted = 0\n",
    "                self.runStateTime = self.runStartTime - datetime.timedelta(\n",
    "                    seconds=self.timeStepSecs\n",
    "                )\n",
    "            else:\n",
    "                self.runStartTime = (\n",
    "                    datetimestart\n",
    "                )  # + datetime.timedelta(seconds=self.timeStepSecs)\n",
    "                self.startadjusted = 1\n",
    "                self.runStateTime = self.runStartTime\n",
    "\n",
    "            self.outPutStartTime = self.runStateTime + datetime.timedelta(\n",
    "                seconds=self.timeStepSecs\n",
    "            )\n",
    "            self.currentDateTime = self.runStartTime\n",
    "            self.runEndTime = self.runStateTime + datetime.timedelta(\n",
    "                seconds=self.timeStepSecs * runTimeSteps\n",
    "            )\n",
    "\n",
    "        if datetimeend:\n",
    "            self.runEndTime = datetimeend\n",
    "            self.runTimeSteps = (\n",
    "                calendar.timegm(self.runEndTime.utctimetuple())\n",
    "                - calendar.timegm(self.runStateTime.utctimetuple())\n",
    "            ) / self.timeStepSecs\n",
    "            if self.runTimeSteps < 1:  # End time before start time\n",
    "                self.runTimeSteps = 1\n",
    "                self.runStartTime = self.runEndTime - datetime.timedelta(\n",
    "                    seconds=self.timeStepSecs * self.runTimeSteps\n",
    "                )\n",
    "\n",
    "        if currentTimeStep and currentTimeStep != self.currentTimeStep:\n",
    "            self.currentTimeStep = currentTimeStep\n",
    "            self.currentDateTime = self.runStateTime + datetime.timedelta(\n",
    "                seconds=self.timeStepSecs * (self.currentTimeStep - 1)\n",
    "            )\n",
    "\n",
    "        if incrementStep:\n",
    "            self.currentTimeStep = self.currentTimeStep + 1\n",
    "            self.currentDateTime = self.currentDateTime + datetime.timedelta(\n",
    "                seconds=self.timeStepSecs\n",
    "            )\n",
    "\n",
    "        if currentDatetime:\n",
    "            self.currentDateTime = currentDatetime\n",
    "            self.currentTimeStep = (\n",
    "                calendar.timegm(self.currentDateTime.utctimetuple())\n",
    "                - calendar.timegm(self.runStateTime.utctimetuple())\n",
    "            ) / self.timeStepSecs + 1\n",
    "\n",
    "        self.nextDateTime = self.currentDateTime + datetime.timedelta(\n",
    "            seconds=self.timeStepSecs\n",
    "        )\n",
    "        self.lastTimeStep = self.runTimeSteps\n",
    "        self.currentMonth = self.currentDateTime.month\n",
    "        self.currentYday = self.currentDateTime.timetuple().tm_yday\n",
    "        self.currentHour = self.currentDateTime.hour"
   ]
  },
  {
   "cell_type": "code",
   "execution_count": null,
   "id": "c4145b14-1af5-4195-8d65-1cb37395179f",
   "metadata": {},
   "outputs": [],
   "source": []
  }
 ],
 "metadata": {
  "kernelspec": {
   "display_name": "Python [conda env:wflow]",
   "language": "python",
   "name": "conda-env-wflow-py"
  },
  "language_info": {
   "codemirror_mode": {
    "name": "ipython",
    "version": 3
   },
   "file_extension": ".py",
   "mimetype": "text/x-python",
   "name": "python",
   "nbconvert_exporter": "python",
   "pygments_lexer": "ipython3",
   "version": "3.10.9"
  }
 },
 "nbformat": 4,
 "nbformat_minor": 5
}
